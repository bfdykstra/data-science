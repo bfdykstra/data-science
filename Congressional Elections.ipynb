{
 "cells": [
  {
   "cell_type": "markdown",
   "metadata": {},
   "source": [
    "# Congressional Elections, Logistic Regression, and Feature Selection \n",
    "\n",
    "In the spirit of our recent election season (hah), I've decided to do some exploration in using boosted trees to identify features that have the most predictive power. Using those selected features and some propreitary intuition, I'll then use a logistic model to predict whether a congressional district will be democrat or republican. \n",
    "\n",
    "For comparison's sake, I'll begin by specifying a logistic model with features that I pick without any empirical evidence to back up my decision.\n",
    "\n",
    "The data describe all 435 districts in the 105th congress from 1997-1998. It contains demographic and employment data for each district as well as a variable indicating whether the district’srepresentative in the House was a Republican or not. Republican districts were coded as 1 while Democratic/independent districts were coded as 0. There are a total of 31 variables, as described below:\n",
    "\n",
    "![Variable descriptions](congress_description.png)"
   ]
  },
  {
   "cell_type": "code",
   "execution_count": 1,
   "metadata": {
    "collapsed": true
   },
   "outputs": [],
   "source": [
    "import pandas as pd\n",
    "import numpy as np\n",
    "import statsmodels.api as sm\n",
    "from statsmodels.discrete.discrete_model import Logit\n",
    "import xgboost as xgb\n",
    "from xgboost.sklearn import XGBClassifier\n",
    "from __future__ import division\n",
    "import seaborn as sns\n",
    "from sklearn.metrics import confusion_matrix, classification_report # important for evaluating classification\n",
    "\n",
    "\n",
    "%matplotlib inline\n",
    "import matplotlib.pylab as plt\n",
    "from matplotlib.pylab import rcParams\n",
    "rcParams['figure.figsize'] = 18.5, 10.5\n",
    "\n"
   ]
  },
  {
   "cell_type": "code",
   "execution_count": 2,
   "metadata": {
    "collapsed": false
   },
   "outputs": [
    {
     "data": {
      "text/html": [
       "<div>\n",
       "<table border=\"1\" class=\"dataframe\">\n",
       "  <thead>\n",
       "    <tr style=\"text-align: right;\">\n",
       "      <th></th>\n",
       "      <th>state</th>\n",
       "      <th>fipstate</th>\n",
       "      <th>sc</th>\n",
       "      <th>cd</th>\n",
       "      <th>repub</th>\n",
       "      <th>age65</th>\n",
       "      <th>black</th>\n",
       "      <th>blucllr</th>\n",
       "      <th>city</th>\n",
       "      <th>coast</th>\n",
       "      <th>...</th>\n",
       "      <th>miltpop</th>\n",
       "      <th>nucplant</th>\n",
       "      <th>popsqmi</th>\n",
       "      <th>populatn</th>\n",
       "      <th>rurlfarm</th>\n",
       "      <th>transprt</th>\n",
       "      <th>unemplyd</th>\n",
       "      <th>union</th>\n",
       "      <th>urban</th>\n",
       "      <th>whlretl</th>\n",
       "    </tr>\n",
       "  </thead>\n",
       "  <tbody>\n",
       "    <tr>\n",
       "      <th>0</th>\n",
       "      <td>AK</td>\n",
       "      <td>2</td>\n",
       "      <td>81</td>\n",
       "      <td>1</td>\n",
       "      <td>1.0</td>\n",
       "      <td>25898</td>\n",
       "      <td>22566</td>\n",
       "      <td>31560</td>\n",
       "      <td>0</td>\n",
       "      <td>1</td>\n",
       "      <td>...</td>\n",
       "      <td>24991</td>\n",
       "      <td>0</td>\n",
       "      <td>0.964357</td>\n",
       "      <td>629099</td>\n",
       "      <td>1292</td>\n",
       "      <td>20903</td>\n",
       "      <td>26234</td>\n",
       "      <td>30.400000</td>\n",
       "      <td>222119</td>\n",
       "      <td>50986</td>\n",
       "    </tr>\n",
       "    <tr>\n",
       "      <th>1</th>\n",
       "      <td>AL</td>\n",
       "      <td>1</td>\n",
       "      <td>41</td>\n",
       "      <td>1</td>\n",
       "      <td>1.0</td>\n",
       "      <td>72534</td>\n",
       "      <td>164556</td>\n",
       "      <td>43449</td>\n",
       "      <td>0</td>\n",
       "      <td>1</td>\n",
       "      <td>...</td>\n",
       "      <td>1524</td>\n",
       "      <td>0</td>\n",
       "      <td>85.095802</td>\n",
       "      <td>577630</td>\n",
       "      <td>5475</td>\n",
       "      <td>10925</td>\n",
       "      <td>19799</td>\n",
       "      <td>18.200001</td>\n",
       "      <td>301197</td>\n",
       "      <td>52983</td>\n",
       "    </tr>\n",
       "    <tr>\n",
       "      <th>2</th>\n",
       "      <td>AL</td>\n",
       "      <td>1</td>\n",
       "      <td>41</td>\n",
       "      <td>2</td>\n",
       "      <td>1.0</td>\n",
       "      <td>75396</td>\n",
       "      <td>139311</td>\n",
       "      <td>49886</td>\n",
       "      <td>0</td>\n",
       "      <td>0</td>\n",
       "      <td>...</td>\n",
       "      <td>11250</td>\n",
       "      <td>1</td>\n",
       "      <td>56.973942</td>\n",
       "      <td>577203</td>\n",
       "      <td>12491</td>\n",
       "      <td>11820</td>\n",
       "      <td>14127</td>\n",
       "      <td>18.200001</td>\n",
       "      <td>202022</td>\n",
       "      <td>52623</td>\n",
       "    </tr>\n",
       "    <tr>\n",
       "      <th>3</th>\n",
       "      <td>AL</td>\n",
       "      <td>1</td>\n",
       "      <td>41</td>\n",
       "      <td>3</td>\n",
       "      <td>1.0</td>\n",
       "      <td>74506</td>\n",
       "      <td>150175</td>\n",
       "      <td>65849</td>\n",
       "      <td>0</td>\n",
       "      <td>0</td>\n",
       "      <td>...</td>\n",
       "      <td>5804</td>\n",
       "      <td>0</td>\n",
       "      <td>66.190620</td>\n",
       "      <td>577116</td>\n",
       "      <td>8863</td>\n",
       "      <td>7891</td>\n",
       "      <td>17303</td>\n",
       "      <td>18.200001</td>\n",
       "      <td>157275</td>\n",
       "      <td>45284</td>\n",
       "    </tr>\n",
       "    <tr>\n",
       "      <th>4</th>\n",
       "      <td>AL</td>\n",
       "      <td>1</td>\n",
       "      <td>41</td>\n",
       "      <td>4</td>\n",
       "      <td>1.0</td>\n",
       "      <td>84691</td>\n",
       "      <td>38087</td>\n",
       "      <td>74068</td>\n",
       "      <td>0</td>\n",
       "      <td>0</td>\n",
       "      <td>...</td>\n",
       "      <td>463</td>\n",
       "      <td>0</td>\n",
       "      <td>63.142357</td>\n",
       "      <td>577058</td>\n",
       "      <td>16664</td>\n",
       "      <td>9711</td>\n",
       "      <td>16724</td>\n",
       "      <td>18.200001</td>\n",
       "      <td>71451</td>\n",
       "      <td>48266</td>\n",
       "    </tr>\n",
       "  </tbody>\n",
       "</table>\n",
       "<p>5 rows × 32 columns</p>\n",
       "</div>"
      ],
      "text/plain": [
       "  state  fipstate  sc  cd  repub  age65   black  blucllr  city  coast  \\\n",
       "0    AK         2  81   1    1.0  25898   22566    31560     0      1   \n",
       "1    AL         1  41   1    1.0  72534  164556    43449     0      1   \n",
       "2    AL         1  41   2    1.0  75396  139311    49886     0      0   \n",
       "3    AL         1  41   3    1.0  74506  150175    65849     0      0   \n",
       "4    AL         1  41   4    1.0  84691   38087    74068     0      0   \n",
       "\n",
       "    ...     miltpop  nucplant    popsqmi  populatn  rurlfarm  transprt  \\\n",
       "0   ...       24991         0   0.964357    629099      1292     20903   \n",
       "1   ...        1524         0  85.095802    577630      5475     10925   \n",
       "2   ...       11250         1  56.973942    577203     12491     11820   \n",
       "3   ...        5804         0  66.190620    577116      8863      7891   \n",
       "4   ...         463         0  63.142357    577058     16664      9711   \n",
       "\n",
       "   unemplyd      union   urban  whlretl  \n",
       "0     26234  30.400000  222119    50986  \n",
       "1     19799  18.200001  301197    52983  \n",
       "2     14127  18.200001  202022    52623  \n",
       "3     17303  18.200001  157275    45284  \n",
       "4     16724  18.200001   71451    48266  \n",
       "\n",
       "[5 rows x 32 columns]"
      ]
     },
     "execution_count": 2,
     "metadata": {},
     "output_type": "execute_result"
    }
   ],
   "source": [
    "congress = pd.read_stata(\"http://rlhick.people.wm.edu/econ407/data/congressional_105.dta\" )\n",
    "congress.head()"
   ]
  },
  {
   "cell_type": "markdown",
   "metadata": {},
   "source": [
    "For the naive logit model, I will estimate\n",
    "\n",
    "$$ repub = \\beta_0 + \\beta_1 per\\_age65 + \\beta_2 per\\_black + \\beta_3 per\\_bluecllr + \\beta_4 city + \\beta_5 mdnincm + \\beta_6 per\\_unemployed + \\beta_7 union $$\n",
    "\n",
    "\n",
    "where per\\_ indicates that variable is a percentage of the district. I use percentages so that (presumably) the results are agnostic of the size of a district and can be generalized to any region in the US. \n",
    "\n",
    "( I should make a geographic region indicator variable. )\n"
   ]
  },
  {
   "cell_type": "code",
   "execution_count": 3,
   "metadata": {
    "collapsed": true
   },
   "outputs": [],
   "source": [
    "#making percentages\n",
    "variables = ['unemplyd', 'age65', 'black', 'blucllr']\n",
    "\n",
    "for v in variables:\n",
    "    congress['per_' + v] = congress[[v, 'populatn']].apply(lambda row: (row[0] / row[1])*100, axis = 1)"
   ]
  },
  {
   "cell_type": "markdown",
   "metadata": {},
   "source": [
    "Before I do anything, I check for null values and get a sense of the data"
   ]
  },
  {
   "cell_type": "code",
   "execution_count": 4,
   "metadata": {
    "collapsed": false
   },
   "outputs": [
    {
     "data": {
      "text/html": [
       "<div>\n",
       "<table border=\"1\" class=\"dataframe\">\n",
       "  <thead>\n",
       "    <tr style=\"text-align: right;\">\n",
       "      <th></th>\n",
       "      <th>state</th>\n",
       "      <th>fipstate</th>\n",
       "      <th>sc</th>\n",
       "      <th>cd</th>\n",
       "      <th>repub</th>\n",
       "      <th>age65</th>\n",
       "      <th>black</th>\n",
       "      <th>blucllr</th>\n",
       "      <th>city</th>\n",
       "      <th>coast</th>\n",
       "      <th>...</th>\n",
       "      <th>rurlfarm</th>\n",
       "      <th>transprt</th>\n",
       "      <th>unemplyd</th>\n",
       "      <th>union</th>\n",
       "      <th>urban</th>\n",
       "      <th>whlretl</th>\n",
       "      <th>per_unemplyd</th>\n",
       "      <th>per_age65</th>\n",
       "      <th>per_black</th>\n",
       "      <th>per_blucllr</th>\n",
       "    </tr>\n",
       "  </thead>\n",
       "  <tbody>\n",
       "    <tr>\n",
       "      <th>318</th>\n",
       "      <td>OK</td>\n",
       "      <td>40</td>\n",
       "      <td>53</td>\n",
       "      <td>1</td>\n",
       "      <td>NaN</td>\n",
       "      <td>119200</td>\n",
       "      <td>99968</td>\n",
       "      <td>57876</td>\n",
       "      <td>1</td>\n",
       "      <td>0</td>\n",
       "      <td>...</td>\n",
       "      <td>1750</td>\n",
       "      <td>32948</td>\n",
       "      <td>27258</td>\n",
       "      <td>12.9</td>\n",
       "      <td>924952</td>\n",
       "      <td>117114</td>\n",
       "      <td>2.600284</td>\n",
       "      <td>11.371116</td>\n",
       "      <td>9.536474</td>\n",
       "      <td>5.521097</td>\n",
       "    </tr>\n",
       "  </tbody>\n",
       "</table>\n",
       "<p>1 rows × 36 columns</p>\n",
       "</div>"
      ],
      "text/plain": [
       "    state  fipstate  sc  cd  repub   age65  black  blucllr  city  coast  \\\n",
       "318    OK        40  53   1    NaN  119200  99968    57876     1      0   \n",
       "\n",
       "        ...       rurlfarm  transprt  unemplyd  union   urban  whlretl  \\\n",
       "318     ...           1750     32948     27258   12.9  924952   117114   \n",
       "\n",
       "     per_unemplyd  per_age65  per_black  per_blucllr  \n",
       "318      2.600284  11.371116   9.536474     5.521097  \n",
       "\n",
       "[1 rows x 36 columns]"
      ]
     },
     "execution_count": 4,
     "metadata": {},
     "output_type": "execute_result"
    }
   ],
   "source": [
    "congress[congress.repub.isnull()]"
   ]
  },
  {
   "cell_type": "markdown",
   "metadata": {},
   "source": [
    "After doing some research on Oklahoma's first congressional district, they had republican congressman Steve Largent from 1994 to 2002. I will code that row as republican."
   ]
  },
  {
   "cell_type": "code",
   "execution_count": 5,
   "metadata": {
    "collapsed": true
   },
   "outputs": [],
   "source": [
    "congress.repub.fillna(value = 1, inplace = True)"
   ]
  },
  {
   "cell_type": "markdown",
   "metadata": {},
   "source": [
    "Lets see how balanced my data set is "
   ]
  },
  {
   "cell_type": "code",
   "execution_count": 6,
   "metadata": {
    "collapsed": false
   },
   "outputs": [
    {
     "data": {
      "image/png": "[encoded data removed]",
      "text/plain": [
       "<matplotlib.figure.Figure at 0x1069c4050>"
      ]
     },
     "metadata": {},
     "output_type": "display_data"
    }
   ],
   "source": [
    "sns.distplot(congress.repub, kde = False); "
   ]
  },
  {
   "cell_type": "code",
   "execution_count": 7,
   "metadata": {
    "collapsed": false
   },
   "outputs": [
    {
     "name": "stdout",
     "output_type": "stream",
     "text": [
      "1.0    228\n",
      "0.0    207\n",
      "Name: repub, dtype: int64\n"
     ]
    }
   ],
   "source": [
    "print congress.repub.value_counts()"
   ]
  },
  {
   "cell_type": "markdown",
   "metadata": {},
   "source": [
    "So our data is fairly balanced, although republicans have the slight majority. Lets check out the relationship between the blue collar workers and black population:"
   ]
  },
  {
   "cell_type": "code",
   "execution_count": 8,
   "metadata": {
    "collapsed": false
   },
   "outputs": [
    {
     "data": {
      "image/png": "[encoded data removed]",
      "text/plain": [
       "<matplotlib.figure.Figure at 0x1069c49d0>"
      ]
     },
     "metadata": {},
     "output_type": "display_data"
    }
   ],
   "source": [
    "sns.regplot(congress.per_black, congress.per_blucllr);"
   ]
  },
  {
   "cell_type": "markdown",
   "metadata": {},
   "source": [
    "There doesn't seem to be a definite relationship between the percentage of blue collar workers and percentage of black population. What about unemployment and the black population?"
   ]
  },
  {
   "cell_type": "code",
   "execution_count": 9,
   "metadata": {
    "collapsed": false
   },
   "outputs": [
    {
     "data": {
      "image/png": "[encoded data removed]",
      "text/plain": [
       "<matplotlib.figure.Figure at 0x11dea8990>"
      ]
     },
     "metadata": {},
     "output_type": "display_data"
    }
   ],
   "source": [
    "sns.regplot(congress.per_black, congress.per_unemplyd);"
   ]
  },
  {
   "cell_type": "markdown",
   "metadata": {},
   "source": [
    "Those two variables are positively correlated.\n",
    "\n",
    "Lets take a look at differences in race that elected a republican congressman:"
   ]
  },
  {
   "cell_type": "code",
   "execution_count": 10,
   "metadata": {
    "collapsed": false
   },
   "outputs": [
    {
     "name": "stdout",
     "output_type": "stream",
     "text": [
      "Districts that went Republican: \n",
      "count    228.000000\n",
      "mean       7.139820\n",
      "std        7.773183\n",
      "min        0.178235\n",
      "25%        2.148288\n",
      "50%        4.678620\n",
      "75%        8.204570\n",
      "max       40.724916\n",
      "Name: per_black, dtype: float64\n",
      "\n",
      "Districts that went Democrat: \n",
      "count    207.000000\n",
      "mean      17.020763\n",
      "std       20.083805\n",
      "min        0.131355\n",
      "25%        2.776919\n",
      "50%        8.122120\n",
      "75%       21.369574\n",
      "max       73.948710\n",
      "Name: per_black, dtype: float64\n"
     ]
    }
   ],
   "source": [
    "print \"Districts that went Republican: \\n\",congress[congress.repub == 1].per_black.describe()\n",
    "\n",
    "print \"\\nDistricts that went Democrat: \\n\",congress[congress.repub == 0].per_black.describe()"
   ]
  },
  {
   "cell_type": "markdown",
   "metadata": {},
   "source": [
    "The median value for districts that went Democrat is 4 % higher than those that went republican. In addition to the districts that went Republican are more closely centered around the mean and median, where as in the districts that went Democrat, there is a significant discrepancy between the mean and median. In fact, 25 % of the data falls between 8.12 % and 21.36 % for Democratic districts, but in Republican districts that number is 4.6 % and 8.2 %.\n",
    "\n",
    "I expect that the percentage of the population that is black will have significant predicitive power in our model. \n",
    "\n",
    "\n",
    "Examine the correlation between our variables of interest:"
   ]
  },
  {
   "cell_type": "code",
   "execution_count": 11,
   "metadata": {
    "collapsed": false
   },
   "outputs": [
    {
     "data": {
      "text/html": [
       "<div>\n",
       "<table border=\"1\" class=\"dataframe\">\n",
       "  <thead>\n",
       "    <tr style=\"text-align: right;\">\n",
       "      <th></th>\n",
       "      <th>per_age65</th>\n",
       "      <th>per_black</th>\n",
       "      <th>per_blucllr</th>\n",
       "      <th>city</th>\n",
       "      <th>mdnincm</th>\n",
       "      <th>per_unemplyd</th>\n",
       "      <th>union</th>\n",
       "    </tr>\n",
       "  </thead>\n",
       "  <tbody>\n",
       "    <tr>\n",
       "      <th>per_age65</th>\n",
       "      <td>1.000000</td>\n",
       "      <td>-0.135644</td>\n",
       "      <td>-0.003851</td>\n",
       "      <td>-0.151725</td>\n",
       "      <td>-0.176406</td>\n",
       "      <td>-0.154773</td>\n",
       "      <td>-0.016208</td>\n",
       "    </tr>\n",
       "    <tr>\n",
       "      <th>per_black</th>\n",
       "      <td>-0.135644</td>\n",
       "      <td>1.000000</td>\n",
       "      <td>0.055332</td>\n",
       "      <td>0.232024</td>\n",
       "      <td>-0.312837</td>\n",
       "      <td>0.549604</td>\n",
       "      <td>-0.135479</td>\n",
       "    </tr>\n",
       "    <tr>\n",
       "      <th>per_blucllr</th>\n",
       "      <td>-0.003851</td>\n",
       "      <td>0.055332</td>\n",
       "      <td>1.000000</td>\n",
       "      <td>-0.198259</td>\n",
       "      <td>-0.470878</td>\n",
       "      <td>0.110561</td>\n",
       "      <td>-0.067490</td>\n",
       "    </tr>\n",
       "    <tr>\n",
       "      <th>city</th>\n",
       "      <td>-0.151725</td>\n",
       "      <td>0.232024</td>\n",
       "      <td>-0.198259</td>\n",
       "      <td>1.000000</td>\n",
       "      <td>-0.002129</td>\n",
       "      <td>0.299911</td>\n",
       "      <td>0.089047</td>\n",
       "    </tr>\n",
       "    <tr>\n",
       "      <th>mdnincm</th>\n",
       "      <td>-0.176406</td>\n",
       "      <td>-0.312837</td>\n",
       "      <td>-0.470878</td>\n",
       "      <td>-0.002129</td>\n",
       "      <td>1.000000</td>\n",
       "      <td>-0.505595</td>\n",
       "      <td>0.251465</td>\n",
       "    </tr>\n",
       "    <tr>\n",
       "      <th>per_unemplyd</th>\n",
       "      <td>-0.154773</td>\n",
       "      <td>0.549604</td>\n",
       "      <td>0.110561</td>\n",
       "      <td>0.299911</td>\n",
       "      <td>-0.505595</td>\n",
       "      <td>1.000000</td>\n",
       "      <td>0.167665</td>\n",
       "    </tr>\n",
       "    <tr>\n",
       "      <th>union</th>\n",
       "      <td>-0.016208</td>\n",
       "      <td>-0.135479</td>\n",
       "      <td>-0.067490</td>\n",
       "      <td>0.089047</td>\n",
       "      <td>0.251465</td>\n",
       "      <td>0.167665</td>\n",
       "      <td>1.000000</td>\n",
       "    </tr>\n",
       "  </tbody>\n",
       "</table>\n",
       "</div>"
      ],
      "text/plain": [
       "              per_age65  per_black  per_blucllr      city   mdnincm  \\\n",
       "per_age65      1.000000  -0.135644    -0.003851 -0.151725 -0.176406   \n",
       "per_black     -0.135644   1.000000     0.055332  0.232024 -0.312837   \n",
       "per_blucllr   -0.003851   0.055332     1.000000 -0.198259 -0.470878   \n",
       "city          -0.151725   0.232024    -0.198259  1.000000 -0.002129   \n",
       "mdnincm       -0.176406  -0.312837    -0.470878 -0.002129  1.000000   \n",
       "per_unemplyd  -0.154773   0.549604     0.110561  0.299911 -0.505595   \n",
       "union         -0.016208  -0.135479    -0.067490  0.089047  0.251465   \n",
       "\n",
       "              per_unemplyd     union  \n",
       "per_age65        -0.154773 -0.016208  \n",
       "per_black         0.549604 -0.135479  \n",
       "per_blucllr       0.110561 -0.067490  \n",
       "city              0.299911  0.089047  \n",
       "mdnincm          -0.505595  0.251465  \n",
       "per_unemplyd      1.000000  0.167665  \n",
       "union             0.167665  1.000000  "
      ]
     },
     "execution_count": 11,
     "metadata": {},
     "output_type": "execute_result"
    }
   ],
   "source": [
    "ind_vars = [ 'per_age65', 'per_black', 'per_blucllr', 'city','mdnincm', 'per_unemplyd', 'union']\n",
    "congress[ind_vars].corr()"
   ]
  },
  {
   "cell_type": "markdown",
   "metadata": {},
   "source": [
    "Nothing seriously outrageous to see here. Percent black and unemployment have the highest correlation at 54.9%, followed by city and unemployment at 29.9%. Something to keep in mind when we are doing feature selections."
   ]
  },
  {
   "cell_type": "markdown",
   "metadata": {},
   "source": [
    "## quick aside about MLE and Logit\n",
    "\n",
    "I'm not going to go in to a ton detail about logistic regression, because it has been done ad nauseam. If you would like more info about it, the [wiki](https://en.wikipedia.org/wiki/Logistic_regression) is a great place to start. \n",
    "\n",
    "I'd like to detail a bit about MLE or maximum likelihood estimation in the context of the logit model. Stats models uses maximum likelihood to estimate the coefficients. In order to use MLE, we assume that the errors in our model are independent and identically Logit distributed. The cumulative logit function is given by:\n",
    "\n",
    "$$ P(y = 1 | \\textbf{x_i}) = \\int_{-\\infty}^{\\textbf{x_i} \\beta} f(t)dt = \\frac{e^{\\textbf{x_i} \\beta}}{1 + e^{\\textbf{x_i} \\beta}}$$\n",
    "\n",
    "The log-likelihood is is then:\n",
    "$$ \\Sigma_{i = 1}^{N} P(y = 1 | \\textbf{x_i} \\beta) \\times (y_i) + (1 - P(y = 1 | \\textbf{x_i} \\beta)) \\times (1 - y_i) $$\n",
    "\n",
    "When I run a logitstic model in statsmodels, it estimates parameters $\\textbf{b}$ such that the above sum is maximized. \n",
    "\n",
    "So now that we know what's going on behind the scenes, lets heckin do it :)\n"
   ]
  },
  {
   "cell_type": "code",
   "execution_count": 12,
   "metadata": {
    "collapsed": false
   },
   "outputs": [
    {
     "name": "stdout",
     "output_type": "stream",
     "text": [
      "Optimization terminated successfully.\n",
      "         Current function value: 0.542084\n",
      "         Iterations 7\n"
     ]
    },
    {
     "data": {
      "text/html": [
       "<table class=\"simpletable\">\n",
       "<caption>Logit Regression Results</caption>\n",
       "<tr>\n",
       "  <th>Dep. Variable:</th>       <td>repub</td>      <th>  No. Observations:  </th>  <td>   435</td>  \n",
       "</tr>\n",
       "<tr>\n",
       "  <th>Model:</th>               <td>Logit</td>      <th>  Df Residuals:      </th>  <td>   427</td>  \n",
       "</tr>\n",
       "<tr>\n",
       "  <th>Method:</th>               <td>MLE</td>       <th>  Df Model:          </th>  <td>     7</td>  \n",
       "</tr>\n",
       "<tr>\n",
       "  <th>Date:</th>          <td>Tue, 29 Nov 2016</td> <th>  Pseudo R-squ.:     </th>  <td>0.2166</td>  \n",
       "</tr>\n",
       "<tr>\n",
       "  <th>Time:</th>              <td>19:49:35</td>     <th>  Log-Likelihood:    </th> <td> -235.81</td> \n",
       "</tr>\n",
       "<tr>\n",
       "  <th>converged:</th>           <td>True</td>       <th>  LL-Null:           </th> <td> -301.01</td> \n",
       "</tr>\n",
       "<tr>\n",
       "  <th> </th>                      <td> </td>        <th>  LLR p-value:       </th> <td>5.158e-25</td>\n",
       "</tr>\n",
       "</table>\n",
       "<table class=\"simpletable\">\n",
       "<tr>\n",
       "        <td></td>          <th>coef</th>     <th>std err</th>      <th>z</th>      <th>P>|z|</th> <th>[95.0% Conf. Int.]</th> \n",
       "</tr>\n",
       "<tr>\n",
       "  <th>const</th>        <td>    9.5500</td> <td>    1.618</td> <td>    5.902</td> <td> 0.000</td> <td>    6.378    12.722</td>\n",
       "</tr>\n",
       "<tr>\n",
       "  <th>per_age65</th>    <td>   -0.1199</td> <td>    0.037</td> <td>   -3.217</td> <td> 0.001</td> <td>   -0.193    -0.047</td>\n",
       "</tr>\n",
       "<tr>\n",
       "  <th>per_black</th>    <td>   -0.0504</td> <td>    0.013</td> <td>   -3.956</td> <td> 0.000</td> <td>   -0.075    -0.025</td>\n",
       "</tr>\n",
       "<tr>\n",
       "  <th>per_blucllr</th>  <td>   -0.0712</td> <td>    0.063</td> <td>   -1.135</td> <td> 0.256</td> <td>   -0.194     0.052</td>\n",
       "</tr>\n",
       "<tr>\n",
       "  <th>city</th>         <td>   -0.6513</td> <td>    0.259</td> <td>   -2.519</td> <td> 0.012</td> <td>   -1.158    -0.145</td>\n",
       "</tr>\n",
       "<tr>\n",
       "  <th>mdnincm</th>      <td>-5.843e-05</td> <td> 1.92e-05</td> <td>   -3.037</td> <td> 0.002</td> <td>-9.61e-05 -2.07e-05</td>\n",
       "</tr>\n",
       "<tr>\n",
       "  <th>per_unemplyd</th> <td>   -1.4488</td> <td>    0.233</td> <td>   -6.210</td> <td> 0.000</td> <td>   -1.906    -0.992</td>\n",
       "</tr>\n",
       "<tr>\n",
       "  <th>union</th>        <td>   -0.0280</td> <td>    0.016</td> <td>   -1.705</td> <td> 0.088</td> <td>   -0.060     0.004</td>\n",
       "</tr>\n",
       "</table>"
      ],
      "text/plain": [
       "<class 'statsmodels.iolib.summary.Summary'>\n",
       "\"\"\"\n",
       "                           Logit Regression Results                           \n",
       "==============================================================================\n",
       "Dep. Variable:                  repub   No. Observations:                  435\n",
       "Model:                          Logit   Df Residuals:                      427\n",
       "Method:                           MLE   Df Model:                            7\n",
       "Date:                Tue, 29 Nov 2016   Pseudo R-squ.:                  0.2166\n",
       "Time:                        19:49:35   Log-Likelihood:                -235.81\n",
       "converged:                       True   LL-Null:                       -301.01\n",
       "                                        LLR p-value:                 5.158e-25\n",
       "================================================================================\n",
       "                   coef    std err          z      P>|z|      [95.0% Conf. Int.]\n",
       "--------------------------------------------------------------------------------\n",
       "const            9.5500      1.618      5.902      0.000         6.378    12.722\n",
       "per_age65       -0.1199      0.037     -3.217      0.001        -0.193    -0.047\n",
       "per_black       -0.0504      0.013     -3.956      0.000        -0.075    -0.025\n",
       "per_blucllr     -0.0712      0.063     -1.135      0.256        -0.194     0.052\n",
       "city            -0.6513      0.259     -2.519      0.012        -1.158    -0.145\n",
       "mdnincm      -5.843e-05   1.92e-05     -3.037      0.002     -9.61e-05 -2.07e-05\n",
       "per_unemplyd    -1.4488      0.233     -6.210      0.000        -1.906    -0.992\n",
       "union           -0.0280      0.016     -1.705      0.088        -0.060     0.004\n",
       "================================================================================\n",
       "\"\"\""
      ]
     },
     "execution_count": 12,
     "metadata": {},
     "output_type": "execute_result"
    }
   ],
   "source": [
    "dep_var = 'repub'\n",
    "\n",
    "x_const = sm.add_constant(congress[ind_vars])\n",
    "y = congress[dep_var]\n",
    "\n",
    "#Logit and probit models\n",
    "\n",
    "logit_results = Logit(y, x_const).fit()\n",
    "logit_results.summary()"
   ]
  },
  {
   "cell_type": "code",
   "execution_count": 13,
   "metadata": {
    "collapsed": false
   },
   "outputs": [
    {
     "data": {
      "text/html": [
       "<table class=\"simpletable\">\n",
       "<caption>Logit Marginal Effects</caption>\n",
       "<tr>\n",
       "  <th>Dep. Variable:</th>  <td>repub</td> \n",
       "</tr>\n",
       "<tr>\n",
       "  <th>Method:</th>         <td>dydx</td>  \n",
       "</tr>\n",
       "<tr>\n",
       "  <th>At:</th>            <td>overall</td>\n",
       "</tr>\n",
       "</table>\n",
       "<table class=\"simpletable\">\n",
       "<tr>\n",
       "        <th></th>          <th>dy/dx</th>    <th>std err</th>      <th>z</th>      <th>P>|z|</th> <th>[95.0% Conf. Int.]</th> \n",
       "</tr>\n",
       "<tr>\n",
       "  <th>per_age65</th>    <td>   -0.0221</td> <td>    0.007</td> <td>   -3.363</td> <td> 0.001</td> <td>   -0.035    -0.009</td>\n",
       "</tr>\n",
       "<tr>\n",
       "  <th>per_black</th>    <td>   -0.0093</td> <td>    0.002</td> <td>   -4.215</td> <td> 0.000</td> <td>   -0.014    -0.005</td>\n",
       "</tr>\n",
       "<tr>\n",
       "  <th>per_blucllr</th>  <td>   -0.0122</td> <td>    0.010</td> <td>   -1.269</td> <td> 0.205</td> <td>   -0.031     0.007</td>\n",
       "</tr>\n",
       "<tr>\n",
       "  <th>city</th>         <td>   -0.1201</td> <td>    0.046</td> <td>   -2.586</td> <td> 0.010</td> <td>   -0.211    -0.029</td>\n",
       "</tr>\n",
       "<tr>\n",
       "  <th>mdnincm</th>      <td>-1.077e-05</td> <td>  3.4e-06</td> <td>   -3.163</td> <td> 0.002</td> <td>-1.74e-05  -4.1e-06</td>\n",
       "</tr>\n",
       "<tr>\n",
       "  <th>per_unemplyd</th> <td>   -0.2670</td> <td>    0.035</td> <td>   -7.538</td> <td> 0.000</td> <td>   -0.336    -0.198</td>\n",
       "</tr>\n",
       "<tr>\n",
       "  <th>union</th>        <td>   -0.0052</td> <td>    0.003</td> <td>   -1.725</td> <td> 0.085</td> <td>   -0.011     0.001</td>\n",
       "</tr>\n",
       "</table>"
      ],
      "text/plain": [
       "<class 'statsmodels.iolib.summary.Summary'>\n",
       "\"\"\"\n",
       "        Logit Marginal Effects       \n",
       "=====================================\n",
       "Dep. Variable:                  repub\n",
       "Method:                          dydx\n",
       "At:                           overall\n",
       "================================================================================\n",
       "                  dy/dx    std err          z      P>|z|      [95.0% Conf. Int.]\n",
       "--------------------------------------------------------------------------------\n",
       "per_age65       -0.0221      0.007     -3.363      0.001        -0.035    -0.009\n",
       "per_black       -0.0093      0.002     -4.215      0.000        -0.014    -0.005\n",
       "per_blucllr     -0.0122      0.010     -1.269      0.205        -0.031     0.007\n",
       "city            -0.1201      0.046     -2.586      0.010        -0.211    -0.029\n",
       "mdnincm      -1.077e-05    3.4e-06     -3.163      0.002     -1.74e-05  -4.1e-06\n",
       "per_unemplyd    -0.2670      0.035     -7.538      0.000        -0.336    -0.198\n",
       "union           -0.0052      0.003     -1.725      0.085        -0.011     0.001\n",
       "================================================================================\n",
       "\"\"\""
      ]
     },
     "execution_count": 13,
     "metadata": {},
     "output_type": "execute_result"
    }
   ],
   "source": [
    "logit_results.get_margeff(dummy = True).summary()"
   ]
  },
  {
   "cell_type": "markdown",
   "metadata": {},
   "source": [
    "Before I look at how well the model is classifying, I'll interpret the marginal effects:\n",
    "\n",
    "For each variable that is a percentage, the marginal effect is the amount that the probability drops for each percent increase in that variable. Those include per_age65, per_black, per_bluecllr, per_unemplyd, and union. The most notable of these is that for every percentage increase in unemployment, the probability that the district elects a republican congressman or woman  decreases by almost 27%!! Oh how the times have changed.\n",
    "\n",
    "Another interesting result is that for every 10,000 \\$ increase in median income, the probability of a republican goes down by about 10.7 %. This goes against conventional wisdom that says that richer folks prefer republican canidates. Again, I think that if region was controlled for, the effect may be different.\n",
    "\n",
    "Something that I think would be interesting to explore is how religious preferences within each district affect republican chances. Anyway, on to the classification reports"
   ]
  },
  {
   "cell_type": "code",
   "execution_count": 14,
   "metadata": {
    "collapsed": false
   },
   "outputs": [
    {
     "name": "stdout",
     "output_type": "stream",
     "text": [
      "             precision    recall  f1-score   support\n",
      "\n",
      "        0.0       0.74      0.67      0.70       207\n",
      "        1.0       0.72      0.78      0.75       228\n",
      "\n",
      "avg / total       0.73      0.73      0.73       435\n",
      "\n",
      "Confusion matrix:\n",
      "\n",
      "[[139  68]\n",
      " [ 50 178]]\n"
     ]
    }
   ],
   "source": [
    "predictions = np.array([1 if x >= 0.5 else 0 for x in logit_results.predict()])\n",
    "\n",
    "print classification_report(congress.repub, predictions)\n",
    "print \"Confusion matrix:\\n\"\n",
    "print confusion_matrix(congress.repub, predictions)"
   ]
  },
  {
   "cell_type": "markdown",
   "metadata": {},
   "source": [
    "Okay, so the model isn't *awful*, although it could use some serious improvement. Democratic districts are only classified correctly (139 / (139 + 68)) = 67% of the time. Okay so that's not very good at all. The pseudo R2 is 0.2166, which is okay. A note about that:\n",
    "\n",
    "**McFadden's (pseudo) R2** = (1 - (log likelihood full model / log likelihood only intercept)). The log likelihood of the intercept model is treated as a total sum of squares, and the log likelihood of the full model is treated as the sum of squared errors (like in approach 1). The ratio of the likelihoods suggests the level of improvement over the intercept model offered by the full model. A higher R2 suggests a better model that explains more of the variance.\n",
    "\n",
    "We proceed boldy forward by diving in to **Feature Selection**\n",
    "\n",
    "## Using a Boosted classifier to do Feature Selection\n",
    "\n",
    "A cool feature of the xgboost library is that after it estimates all the trees, it calculates for each tree the amount that each attribute split point improves the performance measure, weighted by the number of observations the node is responsible for. The performance measure may be the purity (Gini index) used to select the split points or another more specific error function. For more information, check out [this](http://stats.stackexchange.com/questions/162162/relative-variable-importance-for-boosting) stack overflow question.\n",
    "\n",
    "I start with using all variables except those that are identifying information like state, FIPS code etc. I also make the rest of the population count variables in to percentages so that they are comparable to other districts."
   ]
  },
  {
   "cell_type": "code",
   "execution_count": 15,
   "metadata": {
    "collapsed": false
   },
   "outputs": [
    {
     "data": {
      "text/plain": [
       "array(['state', 'fipstate', 'sc', 'cd', 'repub', 'age65', 'black',\n",
       "       'blucllr', 'city', 'coast', 'construc', 'cvllbrfr', 'enroll',\n",
       "       'farmer', 'finance', 'forborn', 'gvtwrkr', 'intrland', 'landsqmi',\n",
       "       'mdnincm', 'miltinst', 'miltmajr', 'miltpop', 'nucplant', 'popsqmi',\n",
       "       'populatn', 'rurlfarm', 'transprt', 'unemplyd', 'union', 'urban',\n",
       "       'whlretl', 'per_unemplyd', 'per_age65', 'per_black', 'per_blucllr'], dtype=object)"
      ]
     },
     "execution_count": 15,
     "metadata": {},
     "output_type": "execute_result"
    }
   ],
   "source": [
    "congress.columns.values"
   ]
  },
  {
   "cell_type": "code",
   "execution_count": 16,
   "metadata": {
    "collapsed": false
   },
   "outputs": [],
   "source": [
    "needs_convert = ['construc', 'cvllbrfr', 'enroll', 'farmer', 'finance', 'forborn', 'gvtwrkr', 'miltpop',\n",
    "                 'rurlfarm', 'transprt', 'urban', 'whlretl']\n",
    "for v in needs_convert:\n",
    "    congress['per_' + v] = congress[[v, 'populatn']].apply(lambda row: (row[0] / row[1])*100, axis = 1)\n",
    "\n",
    "all_ind_vars = ['per_age65', 'per_black', 'per_blucllr', 'city','coast', 'per_construc', 'per_cvllbrfr', \n",
    "                'per_enroll','per_farmer', 'per_finance', 'per_forborn', 'per_gvtwrkr', 'intrland', 'landsqmi', \n",
    "                'mdnincm', 'miltinst', 'miltmajr', 'per_miltpop', 'nucplant', 'popsqmi','populatn', 'per_rurlfarm', \n",
    "                'per_transprt', 'per_unemplyd', 'union', 'per_urban','per_whlretl']\n",
    "\n"
   ]
  },
  {
   "cell_type": "code",
   "execution_count": 17,
   "metadata": {
    "collapsed": false
   },
   "outputs": [
    {
     "data": {
      "text/plain": [
       "XGBClassifier(base_score=0.5, colsample_bylevel=1, colsample_bytree=1,\n",
       "       gamma=0, learning_rate=0.1, max_delta_step=0, max_depth=4,\n",
       "       min_child_weight=1, missing=None, n_estimators=100, nthread=-1,\n",
       "       objective='binary:logistic', reg_alpha=0, reg_lambda=1,\n",
       "       scale_pos_weight=1, seed=0, silent=True, subsample=1)"
      ]
     },
     "execution_count": 17,
     "metadata": {},
     "output_type": "execute_result"
    }
   ],
   "source": [
    "boosted = XGBClassifier(max_depth= 4, objective= 'binary:logistic')\n",
    "boosted.fit(congress[all_ind_vars], congress.repub)"
   ]
  },
  {
   "cell_type": "code",
   "execution_count": 18,
   "metadata": {
    "collapsed": false
   },
   "outputs": [
    {
     "data": {
      "image/png": "[encoded data removed]",
      "text/plain": [
       "<matplotlib.figure.Figure at 0x1021769d0>"
      ]
     },
     "metadata": {},
     "output_type": "display_data"
    }
   ],
   "source": [
    "xgb.plot_importance(boosted.booster());"
   ]
  },
  {
   "cell_type": "markdown",
   "metadata": {
    "collapsed": false
   },
   "source": [
    "Some surprising results, some expected results.\n",
    "\n",
    "**Unexpected:**\n",
    "\n",
    "The percentage of the population that works construction is the most important feature... interesting. Personally, I would consider construction work to be blue collar work, however, they weren't counted as part of the population that constituted blue collar workers. Maybe instead of campaigning with the steel workers, congressmen should pander to construction unions (do those even exist?). The size of the district also plays a significant role. It will be interesting to see whether size contributes positively or negatively to the probability of a republican.\n",
    "\n",
    "Government, transport and utility workers also contribute significantly. A common theme here is features that are most important are either directly related to government work or somehow often implicated with government. Indeed, whether a person is employed or not seriously colors their view of how the government should be run. \n",
    "\n",
    "\n",
    "**Expected**\n",
    "\n",
    "I was right about unemployment and the black population playing a large role in elections! Sweet validation.\n",
    "\n",
    "## New Model\n",
    "\n",
    "The new model I will estimate is:\n",
    "\n",
    "$$ repub = \\beta_0 + \\beta_1 per\\_construc + \\beta_2 per\\_black + \\beta_3 per\\_unemplyd + \\beta_4 per\\_transprt + \\beta_5 per\\_gvtwrkr + \\beta_6 per\\_enroll + \\beta_7 per\\_age65 + \\beta_8 mdnincm + \\beta_9 populatn + \\beta_{10} intrland + \\beta_{11} city + \\beta_{12} coast $$\n",
    "\n",
    "I include all the top four variables that were selected for by the boosted trees. All of those features, with the exception of black, are indicators of employment. To control for age, race, and economic status of the district I include percentage black, over age 65, and median income. I include the amount of National Park land because that land is owned by the government, and provides employment and tourist attractions for citizens. City and coast are to control for urban populations and location respectively. Coast especially should account for the democratic \"coastal elite\". Enroll is to control for those voters whose children are enrolled in public schools, also a factor that would color their view of the government.\n",
    "\n",
    "Lets let er rip"
   ]
  },
  {
   "cell_type": "code",
   "execution_count": 19,
   "metadata": {
    "collapsed": false
   },
   "outputs": [
    {
     "name": "stdout",
     "output_type": "stream",
     "text": [
      "Optimization terminated successfully.\n",
      "         Current function value: 0.504768\n",
      "         Iterations 7\n"
     ]
    },
    {
     "data": {
      "text/html": [
       "<table class=\"simpletable\">\n",
       "<caption>Logit Regression Results</caption>\n",
       "<tr>\n",
       "  <th>Dep. Variable:</th>       <td>repub</td>      <th>  No. Observations:  </th>  <td>   435</td>  \n",
       "</tr>\n",
       "<tr>\n",
       "  <th>Model:</th>               <td>Logit</td>      <th>  Df Residuals:      </th>  <td>   422</td>  \n",
       "</tr>\n",
       "<tr>\n",
       "  <th>Method:</th>               <td>MLE</td>       <th>  Df Model:          </th>  <td>    12</td>  \n",
       "</tr>\n",
       "<tr>\n",
       "  <th>Date:</th>          <td>Tue, 29 Nov 2016</td> <th>  Pseudo R-squ.:     </th>  <td>0.2705</td>  \n",
       "</tr>\n",
       "<tr>\n",
       "  <th>Time:</th>              <td>19:49:37</td>     <th>  Log-Likelihood:    </th> <td> -219.57</td> \n",
       "</tr>\n",
       "<tr>\n",
       "  <th>converged:</th>           <td>True</td>       <th>  LL-Null:           </th> <td> -301.01</td> \n",
       "</tr>\n",
       "<tr>\n",
       "  <th> </th>                      <td> </td>        <th>  LLR p-value:       </th> <td>1.362e-28</td>\n",
       "</tr>\n",
       "</table>\n",
       "<table class=\"simpletable\">\n",
       "<tr>\n",
       "        <td></td>          <th>coef</th>     <th>std err</th>      <th>z</th>      <th>P>|z|</th> <th>[95.0% Conf. Int.]</th> \n",
       "</tr>\n",
       "<tr>\n",
       "  <th>const</th>        <td>   -2.1656</td> <td>    3.265</td> <td>   -0.663</td> <td> 0.507</td> <td>   -8.566     4.235</td>\n",
       "</tr>\n",
       "<tr>\n",
       "  <th>per_construc</th> <td>    0.3077</td> <td>    0.210</td> <td>    1.466</td> <td> 0.143</td> <td>   -0.104     0.719</td>\n",
       "</tr>\n",
       "<tr>\n",
       "  <th>per_black</th>    <td>   -0.0291</td> <td>    0.013</td> <td>   -2.304</td> <td> 0.021</td> <td>   -0.054    -0.004</td>\n",
       "</tr>\n",
       "<tr>\n",
       "  <th>per_unemplyd</th> <td>   -1.7545</td> <td>    0.268</td> <td>   -6.558</td> <td> 0.000</td> <td>   -2.279    -1.230</td>\n",
       "</tr>\n",
       "<tr>\n",
       "  <th>per_transprt</th> <td>   -0.1287</td> <td>    0.220</td> <td>   -0.585</td> <td> 0.559</td> <td>   -0.560     0.303</td>\n",
       "</tr>\n",
       "<tr>\n",
       "  <th>per_gvtwrkr</th>  <td>   -0.1081</td> <td>    0.064</td> <td>   -1.680</td> <td> 0.093</td> <td>   -0.234     0.018</td>\n",
       "</tr>\n",
       "<tr>\n",
       "  <th>per_enroll</th>   <td>    0.2008</td> <td>    0.080</td> <td>    2.524</td> <td> 0.012</td> <td>    0.045     0.357</td>\n",
       "</tr>\n",
       "<tr>\n",
       "  <th>per_age65</th>    <td>   -0.0035</td> <td>    0.055</td> <td>   -0.063</td> <td> 0.949</td> <td>   -0.111     0.104</td>\n",
       "</tr>\n",
       "<tr>\n",
       "  <th>mdnincm</th>      <td>-1.363e-05</td> <td> 2.27e-05</td> <td>   -0.602</td> <td> 0.547</td> <td> -5.8e-05  3.08e-05</td>\n",
       "</tr>\n",
       "<tr>\n",
       "  <th>populatn</th>     <td> 9.015e-06</td> <td> 3.18e-06</td> <td>    2.837</td> <td> 0.005</td> <td> 2.79e-06  1.52e-05</td>\n",
       "</tr>\n",
       "<tr>\n",
       "  <th>intrland</th>     <td> 2.114e-08</td> <td> 1.15e-08</td> <td>    1.846</td> <td> 0.065</td> <td>-1.31e-09  4.36e-08</td>\n",
       "</tr>\n",
       "<tr>\n",
       "  <th>city</th>         <td>   -0.4814</td> <td>    0.286</td> <td>   -1.685</td> <td> 0.092</td> <td>   -1.041     0.079</td>\n",
       "</tr>\n",
       "<tr>\n",
       "  <th>coast</th>        <td>   -0.6496</td> <td>    0.267</td> <td>   -2.432</td> <td> 0.015</td> <td>   -1.173    -0.126</td>\n",
       "</tr>\n",
       "</table>"
      ],
      "text/plain": [
       "<class 'statsmodels.iolib.summary.Summary'>\n",
       "\"\"\"\n",
       "                           Logit Regression Results                           \n",
       "==============================================================================\n",
       "Dep. Variable:                  repub   No. Observations:                  435\n",
       "Model:                          Logit   Df Residuals:                      422\n",
       "Method:                           MLE   Df Model:                           12\n",
       "Date:                Tue, 29 Nov 2016   Pseudo R-squ.:                  0.2705\n",
       "Time:                        19:49:37   Log-Likelihood:                -219.57\n",
       "converged:                       True   LL-Null:                       -301.01\n",
       "                                        LLR p-value:                 1.362e-28\n",
       "================================================================================\n",
       "                   coef    std err          z      P>|z|      [95.0% Conf. Int.]\n",
       "--------------------------------------------------------------------------------\n",
       "const           -2.1656      3.265     -0.663      0.507        -8.566     4.235\n",
       "per_construc     0.3077      0.210      1.466      0.143        -0.104     0.719\n",
       "per_black       -0.0291      0.013     -2.304      0.021        -0.054    -0.004\n",
       "per_unemplyd    -1.7545      0.268     -6.558      0.000        -2.279    -1.230\n",
       "per_transprt    -0.1287      0.220     -0.585      0.559        -0.560     0.303\n",
       "per_gvtwrkr     -0.1081      0.064     -1.680      0.093        -0.234     0.018\n",
       "per_enroll       0.2008      0.080      2.524      0.012         0.045     0.357\n",
       "per_age65       -0.0035      0.055     -0.063      0.949        -0.111     0.104\n",
       "mdnincm      -1.363e-05   2.27e-05     -0.602      0.547      -5.8e-05  3.08e-05\n",
       "populatn      9.015e-06   3.18e-06      2.837      0.005      2.79e-06  1.52e-05\n",
       "intrland      2.114e-08   1.15e-08      1.846      0.065     -1.31e-09  4.36e-08\n",
       "city            -0.4814      0.286     -1.685      0.092        -1.041     0.079\n",
       "coast           -0.6496      0.267     -2.432      0.015        -1.173    -0.126\n",
       "================================================================================\n",
       "\"\"\""
      ]
     },
     "execution_count": 19,
     "metadata": {},
     "output_type": "execute_result"
    }
   ],
   "source": [
    "new_vars = ['per_construc', 'per_black', 'per_unemplyd', 'per_transprt', 'per_gvtwrkr', 'per_enroll', 'per_age65',\n",
    "            'mdnincm','populatn',  'intrland', 'city', 'coast' ]\n",
    "new_x_const = sm.add_constant(congress[new_vars])\n",
    "\n",
    "new_model = Logit(congress.repub, new_x_const).fit()\n",
    "new_model.summary()"
   ]
  },
  {
   "cell_type": "code",
   "execution_count": 20,
   "metadata": {
    "collapsed": false
   },
   "outputs": [
    {
     "name": "stdout",
     "output_type": "stream",
     "text": [
      "             precision    recall  f1-score   support\n",
      "\n",
      "        0.0       0.76      0.68      0.72       207\n",
      "        1.0       0.73      0.81      0.77       228\n",
      "\n",
      "avg / total       0.75      0.74      0.74       435\n",
      "\n",
      "Confusion matrix:\n",
      "\n",
      "[[140  67]\n",
      " [ 44 184]]\n"
     ]
    }
   ],
   "source": [
    "new_predictions = np.array([1 if x >= 0.5 else 0 for x in new_model.predict()])\n",
    "\n",
    "print classification_report(congress.repub, new_predictions)\n",
    "print \"Confusion matrix:\\n\"\n",
    "print confusion_matrix(congress.repub, new_predictions)"
   ]
  },
  {
   "cell_type": "markdown",
   "metadata": {},
   "source": [
    "Our pseudo R2 improves significantly from 0.2166 to 0.2705. The precision and recall also improve slightly, although they are still not what I would like them to be. Lets look at the marginal effects: "
   ]
  },
  {
   "cell_type": "code",
   "execution_count": 21,
   "metadata": {
    "collapsed": false
   },
   "outputs": [
    {
     "data": {
      "text/html": [
       "<table class=\"simpletable\">\n",
       "<caption>Logit Marginal Effects</caption>\n",
       "<tr>\n",
       "  <th>Dep. Variable:</th>  <td>repub</td> \n",
       "</tr>\n",
       "<tr>\n",
       "  <th>Method:</th>         <td>dydx</td>  \n",
       "</tr>\n",
       "<tr>\n",
       "  <th>At:</th>            <td>overall</td>\n",
       "</tr>\n",
       "</table>\n",
       "<table class=\"simpletable\">\n",
       "<tr>\n",
       "        <th></th>          <th>dy/dx</th>    <th>std err</th>      <th>z</th>      <th>P>|z|</th> <th>[95.0% Conf. Int.]</th> \n",
       "</tr>\n",
       "<tr>\n",
       "  <th>per_construc</th> <td>    0.0521</td> <td>    0.035</td> <td>    1.480</td> <td> 0.139</td> <td>   -0.017     0.121</td>\n",
       "</tr>\n",
       "<tr>\n",
       "  <th>per_black</th>    <td>   -0.0049</td> <td>    0.002</td> <td>   -2.351</td> <td> 0.019</td> <td>   -0.009    -0.001</td>\n",
       "</tr>\n",
       "<tr>\n",
       "  <th>per_unemplyd</th> <td>   -0.2972</td> <td>    0.036</td> <td>   -8.170</td> <td> 0.000</td> <td>   -0.368    -0.226</td>\n",
       "</tr>\n",
       "<tr>\n",
       "  <th>per_transprt</th> <td>   -0.0218</td> <td>    0.037</td> <td>   -0.586</td> <td> 0.558</td> <td>   -0.095     0.051</td>\n",
       "</tr>\n",
       "<tr>\n",
       "  <th>per_gvtwrkr</th>  <td>   -0.0183</td> <td>    0.011</td> <td>   -1.701</td> <td> 0.089</td> <td>   -0.039     0.003</td>\n",
       "</tr>\n",
       "<tr>\n",
       "  <th>per_enroll</th>   <td>    0.0340</td> <td>    0.013</td> <td>    2.588</td> <td> 0.010</td> <td>    0.008     0.060</td>\n",
       "</tr>\n",
       "<tr>\n",
       "  <th>per_age65</th>    <td>   -0.0006</td> <td>    0.009</td> <td>   -0.063</td> <td> 0.949</td> <td>   -0.019     0.018</td>\n",
       "</tr>\n",
       "<tr>\n",
       "  <th>mdnincm</th>      <td>-2.309e-06</td> <td> 3.83e-06</td> <td>   -0.603</td> <td> 0.547</td> <td>-9.82e-06   5.2e-06</td>\n",
       "</tr>\n",
       "<tr>\n",
       "  <th>populatn</th>     <td> 1.527e-06</td> <td> 5.22e-07</td> <td>    2.926</td> <td> 0.003</td> <td> 5.04e-07  2.55e-06</td>\n",
       "</tr>\n",
       "<tr>\n",
       "  <th>intrland</th>     <td> 3.604e-09</td> <td> 1.94e-09</td> <td>    1.854</td> <td> 0.064</td> <td>-2.06e-10  7.41e-09</td>\n",
       "</tr>\n",
       "<tr>\n",
       "  <th>city</th>         <td>   -0.0834</td> <td>    0.050</td> <td>   -1.668</td> <td> 0.095</td> <td>   -0.181     0.015</td>\n",
       "</tr>\n",
       "<tr>\n",
       "  <th>coast</th>        <td>   -0.1100</td> <td>    0.044</td> <td>   -2.495</td> <td> 0.013</td> <td>   -0.196    -0.024</td>\n",
       "</tr>\n",
       "</table>"
      ],
      "text/plain": [
       "<class 'statsmodels.iolib.summary.Summary'>\n",
       "\"\"\"\n",
       "        Logit Marginal Effects       \n",
       "=====================================\n",
       "Dep. Variable:                  repub\n",
       "Method:                          dydx\n",
       "At:                           overall\n",
       "================================================================================\n",
       "                  dy/dx    std err          z      P>|z|      [95.0% Conf. Int.]\n",
       "--------------------------------------------------------------------------------\n",
       "per_construc     0.0521      0.035      1.480      0.139        -0.017     0.121\n",
       "per_black       -0.0049      0.002     -2.351      0.019        -0.009    -0.001\n",
       "per_unemplyd    -0.2972      0.036     -8.170      0.000        -0.368    -0.226\n",
       "per_transprt    -0.0218      0.037     -0.586      0.558        -0.095     0.051\n",
       "per_gvtwrkr     -0.0183      0.011     -1.701      0.089        -0.039     0.003\n",
       "per_enroll       0.0340      0.013      2.588      0.010         0.008     0.060\n",
       "per_age65       -0.0006      0.009     -0.063      0.949        -0.019     0.018\n",
       "mdnincm      -2.309e-06   3.83e-06     -0.603      0.547     -9.82e-06   5.2e-06\n",
       "populatn      1.527e-06   5.22e-07      2.926      0.003      5.04e-07  2.55e-06\n",
       "intrland      3.604e-09   1.94e-09      1.854      0.064     -2.06e-10  7.41e-09\n",
       "city            -0.0834      0.050     -1.668      0.095        -0.181     0.015\n",
       "coast           -0.1100      0.044     -2.495      0.013        -0.196    -0.024\n",
       "================================================================================\n",
       "\"\"\""
      ]
     },
     "execution_count": 21,
     "metadata": {},
     "output_type": "execute_result"
    }
   ],
   "source": [
    "new_model.get_margeff(dummy=True).summary()"
   ]
  },
  {
   "cell_type": "markdown",
   "metadata": {
    "collapsed": true
   },
   "source": [
    "Percent unemployment remains the biggest factor for probability of republican, followed by population and then percentage of the population that is black. Interestingly, a larger population benefits republican canidates. So does having children enrolled in public schools.\n",
    "\n",
    "What would happen if we controlled for region of the country with a series of dummy variables?"
   ]
  },
  {
   "cell_type": "code",
   "execution_count": 22,
   "metadata": {
    "collapsed": true
   },
   "outputs": [],
   "source": [
    "\n",
    "# these are regions as defined by the bureau of economic analysis\n",
    "regions = {'new_england':['CT', 'ME', 'MA', 'NH', 'RI', 'VT'] , \n",
    "           'mid_east': ['DE', 'DC', 'MD', 'NJ', 'NY', 'PA'],\n",
    "           'great_lakes': ['IL', 'IN', 'MI', 'OH', 'WI'], \n",
    "           'plains': ['IA', 'KS', 'MN', 'MO', 'NE', 'ND', 'SD'], \n",
    "           'south_east':['AL', 'AR', 'FL', 'GA', 'KY', 'LA', 'MS', 'NC', 'SC', 'TN', 'VA', 'WV'], \n",
    "           'south_west': ['AZ', 'NM', 'OK', 'TX'], \n",
    "           'rocky_mountain': ['CO', 'ID', 'MT', 'UT', 'WY'], \n",
    "           'far_west': ['CA', 'AK', 'HI', 'NV', 'OR', 'WA']}\n",
    "\n",
    "\n",
    "#assigns 1 to that column if state is in that region\n",
    "for key,val in regions.iteritems():\n",
    "    congress['in_' + key] = congress.state.apply(lambda state: 1 if state in regions[key] else 0)"
   ]
  },
  {
   "cell_type": "code",
   "execution_count": 23,
   "metadata": {
    "collapsed": false
   },
   "outputs": [
    {
     "name": "stdout",
     "output_type": "stream",
     "text": [
      "Optimization terminated successfully.\n",
      "         Current function value: 0.482721\n",
      "         Iterations 7\n"
     ]
    },
    {
     "data": {
      "text/html": [
       "<table class=\"simpletable\">\n",
       "<caption>Logit Regression Results</caption>\n",
       "<tr>\n",
       "  <th>Dep. Variable:</th>       <td>repub</td>      <th>  No. Observations:  </th>  <td>   435</td>  \n",
       "</tr>\n",
       "<tr>\n",
       "  <th>Model:</th>               <td>Logit</td>      <th>  Df Residuals:      </th>  <td>   415</td>  \n",
       "</tr>\n",
       "<tr>\n",
       "  <th>Method:</th>               <td>MLE</td>       <th>  Df Model:          </th>  <td>    19</td>  \n",
       "</tr>\n",
       "<tr>\n",
       "  <th>Date:</th>          <td>Tue, 29 Nov 2016</td> <th>  Pseudo R-squ.:     </th>  <td>0.3024</td>  \n",
       "</tr>\n",
       "<tr>\n",
       "  <th>Time:</th>              <td>19:49:38</td>     <th>  Log-Likelihood:    </th> <td> -209.98</td> \n",
       "</tr>\n",
       "<tr>\n",
       "  <th>converged:</th>           <td>True</td>       <th>  LL-Null:           </th> <td> -301.01</td> \n",
       "</tr>\n",
       "<tr>\n",
       "  <th> </th>                      <td> </td>        <th>  LLR p-value:       </th> <td>1.217e-28</td>\n",
       "</tr>\n",
       "</table>\n",
       "<table class=\"simpletable\">\n",
       "<tr>\n",
       "          <td></td>             <th>coef</th>     <th>std err</th>      <th>z</th>      <th>P>|z|</th> <th>[95.0% Conf. Int.]</th> \n",
       "</tr>\n",
       "<tr>\n",
       "  <th>const</th>             <td>   -3.1413</td> <td>  1.1e+07</td> <td>-2.86e-07</td> <td> 1.000</td> <td>-2.15e+07  2.15e+07</td>\n",
       "</tr>\n",
       "<tr>\n",
       "  <th>per_construc</th>      <td>    0.2647</td> <td>    0.246</td> <td>    1.076</td> <td> 0.282</td> <td>   -0.217     0.747</td>\n",
       "</tr>\n",
       "<tr>\n",
       "  <th>per_black</th>         <td>   -0.0504</td> <td>    0.016</td> <td>   -3.177</td> <td> 0.001</td> <td>   -0.081    -0.019</td>\n",
       "</tr>\n",
       "<tr>\n",
       "  <th>per_unemplyd</th>      <td>   -1.6023</td> <td>    0.321</td> <td>   -4.997</td> <td> 0.000</td> <td>   -2.231    -0.974</td>\n",
       "</tr>\n",
       "<tr>\n",
       "  <th>per_transprt</th>      <td>   -0.1629</td> <td>    0.239</td> <td>   -0.681</td> <td> 0.496</td> <td>   -0.632     0.306</td>\n",
       "</tr>\n",
       "<tr>\n",
       "  <th>per_gvtwrkr</th>       <td>   -0.1043</td> <td>    0.071</td> <td>   -1.466</td> <td> 0.143</td> <td>   -0.244     0.035</td>\n",
       "</tr>\n",
       "<tr>\n",
       "  <th>per_enroll</th>        <td>    0.2362</td> <td>    0.090</td> <td>    2.637</td> <td> 0.008</td> <td>    0.061     0.412</td>\n",
       "</tr>\n",
       "<tr>\n",
       "  <th>per_age65</th>         <td>   -0.0028</td> <td>    0.058</td> <td>   -0.048</td> <td> 0.962</td> <td>   -0.117     0.111</td>\n",
       "</tr>\n",
       "<tr>\n",
       "  <th>mdnincm</th>           <td> 1.224e-05</td> <td> 2.77e-05</td> <td>    0.442</td> <td> 0.659</td> <td>-4.21e-05  6.65e-05</td>\n",
       "</tr>\n",
       "<tr>\n",
       "  <th>populatn</th>          <td>   8.1e-06</td> <td> 3.12e-06</td> <td>    2.597</td> <td> 0.009</td> <td> 1.99e-06  1.42e-05</td>\n",
       "</tr>\n",
       "<tr>\n",
       "  <th>intrland</th>          <td>  5.69e-08</td> <td> 3.16e-08</td> <td>    1.799</td> <td> 0.072</td> <td>-5.08e-09  1.19e-07</td>\n",
       "</tr>\n",
       "<tr>\n",
       "  <th>city</th>              <td>   -0.3625</td> <td>    0.332</td> <td>   -1.092</td> <td> 0.275</td> <td>   -1.014     0.288</td>\n",
       "</tr>\n",
       "<tr>\n",
       "  <th>coast</th>             <td>   -0.5590</td> <td>    0.283</td> <td>   -1.977</td> <td> 0.048</td> <td>   -1.113    -0.005</td>\n",
       "</tr>\n",
       "<tr>\n",
       "  <th>in_rocky_mountain</th> <td>    0.0798</td> <td>  1.1e+07</td> <td> 7.27e-09</td> <td> 1.000</td> <td>-2.15e+07  2.15e+07</td>\n",
       "</tr>\n",
       "<tr>\n",
       "  <th>in_plains</th>         <td>   -0.8275</td> <td>  1.1e+07</td> <td>-7.54e-08</td> <td> 1.000</td> <td>-2.15e+07  2.15e+07</td>\n",
       "</tr>\n",
       "<tr>\n",
       "  <th>in_new_england</th>    <td>   -1.3708</td> <td>  1.1e+07</td> <td>-1.25e-07</td> <td> 1.000</td> <td>-2.15e+07  2.15e+07</td>\n",
       "</tr>\n",
       "<tr>\n",
       "  <th>in_great_lakes</th>    <td>   -0.0533</td> <td>  1.1e+07</td> <td>-4.86e-09</td> <td> 1.000</td> <td>-2.15e+07  2.15e+07</td>\n",
       "</tr>\n",
       "<tr>\n",
       "  <th>in_mid_east</th>       <td>    0.0881</td> <td>  1.1e+07</td> <td> 8.03e-09</td> <td> 1.000</td> <td>-2.15e+07  2.15e+07</td>\n",
       "</tr>\n",
       "<tr>\n",
       "  <th>in_south_west</th>     <td>   -0.0952</td> <td>  1.1e+07</td> <td>-8.67e-09</td> <td> 1.000</td> <td>-2.15e+07  2.15e+07</td>\n",
       "</tr>\n",
       "<tr>\n",
       "  <th>in_south_east</th>     <td>    0.5559</td> <td>  1.1e+07</td> <td> 5.06e-08</td> <td> 1.000</td> <td>-2.15e+07  2.15e+07</td>\n",
       "</tr>\n",
       "<tr>\n",
       "  <th>in_far_west</th>       <td>   -1.5183</td> <td>  1.1e+07</td> <td>-1.38e-07</td> <td> 1.000</td> <td>-2.15e+07  2.15e+07</td>\n",
       "</tr>\n",
       "</table>"
      ],
      "text/plain": [
       "<class 'statsmodels.iolib.summary.Summary'>\n",
       "\"\"\"\n",
       "                           Logit Regression Results                           \n",
       "==============================================================================\n",
       "Dep. Variable:                  repub   No. Observations:                  435\n",
       "Model:                          Logit   Df Residuals:                      415\n",
       "Method:                           MLE   Df Model:                           19\n",
       "Date:                Tue, 29 Nov 2016   Pseudo R-squ.:                  0.3024\n",
       "Time:                        19:49:38   Log-Likelihood:                -209.98\n",
       "converged:                       True   LL-Null:                       -301.01\n",
       "                                        LLR p-value:                 1.217e-28\n",
       "=====================================================================================\n",
       "                        coef    std err          z      P>|z|      [95.0% Conf. Int.]\n",
       "-------------------------------------------------------------------------------------\n",
       "const                -3.1413    1.1e+07  -2.86e-07      1.000     -2.15e+07  2.15e+07\n",
       "per_construc          0.2647      0.246      1.076      0.282        -0.217     0.747\n",
       "per_black            -0.0504      0.016     -3.177      0.001        -0.081    -0.019\n",
       "per_unemplyd         -1.6023      0.321     -4.997      0.000        -2.231    -0.974\n",
       "per_transprt         -0.1629      0.239     -0.681      0.496        -0.632     0.306\n",
       "per_gvtwrkr          -0.1043      0.071     -1.466      0.143        -0.244     0.035\n",
       "per_enroll            0.2362      0.090      2.637      0.008         0.061     0.412\n",
       "per_age65            -0.0028      0.058     -0.048      0.962        -0.117     0.111\n",
       "mdnincm            1.224e-05   2.77e-05      0.442      0.659     -4.21e-05  6.65e-05\n",
       "populatn             8.1e-06   3.12e-06      2.597      0.009      1.99e-06  1.42e-05\n",
       "intrland            5.69e-08   3.16e-08      1.799      0.072     -5.08e-09  1.19e-07\n",
       "city                 -0.3625      0.332     -1.092      0.275        -1.014     0.288\n",
       "coast                -0.5590      0.283     -1.977      0.048        -1.113    -0.005\n",
       "in_rocky_mountain     0.0798    1.1e+07   7.27e-09      1.000     -2.15e+07  2.15e+07\n",
       "in_plains            -0.8275    1.1e+07  -7.54e-08      1.000     -2.15e+07  2.15e+07\n",
       "in_new_england       -1.3708    1.1e+07  -1.25e-07      1.000     -2.15e+07  2.15e+07\n",
       "in_great_lakes       -0.0533    1.1e+07  -4.86e-09      1.000     -2.15e+07  2.15e+07\n",
       "in_mid_east           0.0881    1.1e+07   8.03e-09      1.000     -2.15e+07  2.15e+07\n",
       "in_south_west        -0.0952    1.1e+07  -8.67e-09      1.000     -2.15e+07  2.15e+07\n",
       "in_south_east         0.5559    1.1e+07   5.06e-08      1.000     -2.15e+07  2.15e+07\n",
       "in_far_west          -1.5183    1.1e+07  -1.38e-07      1.000     -2.15e+07  2.15e+07\n",
       "=====================================================================================\n",
       "\"\"\""
      ]
     },
     "execution_count": 23,
     "metadata": {},
     "output_type": "execute_result"
    }
   ],
   "source": [
    "controlled_region = ['per_construc', 'per_black', 'per_unemplyd', 'per_transprt', 'per_gvtwrkr', 'per_enroll', \n",
    "                     'per_age65', 'mdnincm','populatn',  'intrland', 'city', 'coast', 'in_rocky_mountain', \n",
    "                     'in_plains', 'in_new_england', 'in_great_lakes', 'in_mid_east', 'in_south_west', 'in_south_east',\n",
    "                     'in_far_west']\n",
    "\n",
    "controlled_model = Logit(congress.repub, sm.add_constant(congress[controlled_region])).fit()\n",
    "controlled_model.summary()"
   ]
  },
  {
   "cell_type": "code",
   "execution_count": 24,
   "metadata": {
    "collapsed": false
   },
   "outputs": [
    {
     "data": {
      "text/html": [
       "<table class=\"simpletable\">\n",
       "<caption>Logit Marginal Effects</caption>\n",
       "<tr>\n",
       "  <th>Dep. Variable:</th>  <td>repub</td> \n",
       "</tr>\n",
       "<tr>\n",
       "  <th>Method:</th>         <td>dydx</td>  \n",
       "</tr>\n",
       "<tr>\n",
       "  <th>At:</th>            <td>overall</td>\n",
       "</tr>\n",
       "</table>\n",
       "<table class=\"simpletable\">\n",
       "<tr>\n",
       "          <th></th>             <th>dy/dx</th>    <th>std err</th>      <th>z</th>      <th>P>|z|</th> <th>[95.0% Conf. Int.]</th> \n",
       "</tr>\n",
       "<tr>\n",
       "  <th>per_construc</th>      <td>    0.0426</td> <td>    0.039</td> <td>    1.088</td> <td> 0.277</td> <td>   -0.034     0.119</td>\n",
       "</tr>\n",
       "<tr>\n",
       "  <th>per_black</th>         <td>   -0.0081</td> <td>    0.003</td> <td>   -3.233</td> <td> 0.001</td> <td>   -0.013    -0.003</td>\n",
       "</tr>\n",
       "<tr>\n",
       "  <th>per_unemplyd</th>      <td>   -0.2576</td> <td>    0.046</td> <td>   -5.646</td> <td> 0.000</td> <td>   -0.347    -0.168</td>\n",
       "</tr>\n",
       "<tr>\n",
       "  <th>per_transprt</th>      <td>   -0.0262</td> <td>    0.039</td> <td>   -0.680</td> <td> 0.496</td> <td>   -0.102     0.049</td>\n",
       "</tr>\n",
       "<tr>\n",
       "  <th>per_gvtwrkr</th>       <td>   -0.0168</td> <td>    0.011</td> <td>   -1.477</td> <td> 0.140</td> <td>   -0.039     0.005</td>\n",
       "</tr>\n",
       "<tr>\n",
       "  <th>per_enroll</th>        <td>    0.0380</td> <td>    0.014</td> <td>    2.731</td> <td> 0.006</td> <td>    0.011     0.065</td>\n",
       "</tr>\n",
       "<tr>\n",
       "  <th>per_age65</th>         <td>   -0.0004</td> <td>    0.009</td> <td>   -0.048</td> <td> 0.962</td> <td>   -0.019     0.018</td>\n",
       "</tr>\n",
       "<tr>\n",
       "  <th>mdnincm</th>           <td> 1.968e-06</td> <td> 4.45e-06</td> <td>    0.442</td> <td> 0.658</td> <td>-6.75e-06  1.07e-05</td>\n",
       "</tr>\n",
       "<tr>\n",
       "  <th>populatn</th>          <td> 1.302e-06</td> <td> 4.84e-07</td> <td>    2.689</td> <td> 0.007</td> <td> 3.53e-07  2.25e-06</td>\n",
       "</tr>\n",
       "<tr>\n",
       "  <th>intrland</th>          <td> 9.066e-09</td> <td>  4.8e-09</td> <td>    1.887</td> <td> 0.059</td> <td> -3.5e-10  1.85e-08</td>\n",
       "</tr>\n",
       "<tr>\n",
       "  <th>city</th>              <td>   -0.0595</td> <td>    0.055</td> <td>   -1.078</td> <td> 0.281</td> <td>   -0.168     0.049</td>\n",
       "</tr>\n",
       "<tr>\n",
       "  <th>coast</th>             <td>   -0.0920</td> <td>    0.047</td> <td>   -1.958</td> <td> 0.050</td> <td>   -0.184  9.55e-05</td>\n",
       "</tr>\n",
       "<tr>\n",
       "  <th>in_rocky_mountain</th> <td>    0.0128</td> <td> 1.75e+06</td> <td> 7.29e-09</td> <td> 1.000</td> <td>-3.43e+06  3.43e+06</td>\n",
       "</tr>\n",
       "<tr>\n",
       "  <th>in_plains</th>         <td>   -0.1341</td> <td> 1.75e+06</td> <td>-7.66e-08</td> <td> 1.000</td> <td>-3.43e+06  3.43e+06</td>\n",
       "</tr>\n",
       "<tr>\n",
       "  <th>in_new_england</th>    <td>   -0.2272</td> <td> 1.74e+06</td> <td>-1.31e-07</td> <td> 1.000</td> <td>-3.41e+06  3.41e+06</td>\n",
       "</tr>\n",
       "<tr>\n",
       "  <th>in_great_lakes</th>    <td>   -0.0086</td> <td> 1.77e+06</td> <td>-4.85e-09</td> <td> 1.000</td> <td>-3.47e+06  3.47e+06</td>\n",
       "</tr>\n",
       "<tr>\n",
       "  <th>in_mid_east</th>       <td>    0.0141</td> <td> 1.75e+06</td> <td> 8.06e-09</td> <td> 1.000</td> <td>-3.44e+06  3.44e+06</td>\n",
       "</tr>\n",
       "<tr>\n",
       "  <th>in_south_west</th>     <td>   -0.0154</td> <td> 1.78e+06</td> <td>-8.65e-09</td> <td> 1.000</td> <td>-3.48e+06  3.48e+06</td>\n",
       "</tr>\n",
       "<tr>\n",
       "  <th>in_south_east</th>     <td>    0.0883</td> <td> 1.71e+06</td> <td> 5.18e-08</td> <td> 1.000</td> <td>-3.34e+06  3.34e+06</td>\n",
       "</tr>\n",
       "<tr>\n",
       "  <th>in_far_west</th>       <td>   -0.2441</td> <td> 1.76e+06</td> <td>-1.38e-07</td> <td> 1.000</td> <td>-3.46e+06  3.46e+06</td>\n",
       "</tr>\n",
       "</table>"
      ],
      "text/plain": [
       "<class 'statsmodels.iolib.summary.Summary'>\n",
       "\"\"\"\n",
       "        Logit Marginal Effects       \n",
       "=====================================\n",
       "Dep. Variable:                  repub\n",
       "Method:                          dydx\n",
       "At:                           overall\n",
       "=====================================================================================\n",
       "                       dy/dx    std err          z      P>|z|      [95.0% Conf. Int.]\n",
       "-------------------------------------------------------------------------------------\n",
       "per_construc          0.0426      0.039      1.088      0.277        -0.034     0.119\n",
       "per_black            -0.0081      0.003     -3.233      0.001        -0.013    -0.003\n",
       "per_unemplyd         -0.2576      0.046     -5.646      0.000        -0.347    -0.168\n",
       "per_transprt         -0.0262      0.039     -0.680      0.496        -0.102     0.049\n",
       "per_gvtwrkr          -0.0168      0.011     -1.477      0.140        -0.039     0.005\n",
       "per_enroll            0.0380      0.014      2.731      0.006         0.011     0.065\n",
       "per_age65            -0.0004      0.009     -0.048      0.962        -0.019     0.018\n",
       "mdnincm            1.968e-06   4.45e-06      0.442      0.658     -6.75e-06  1.07e-05\n",
       "populatn           1.302e-06   4.84e-07      2.689      0.007      3.53e-07  2.25e-06\n",
       "intrland           9.066e-09    4.8e-09      1.887      0.059      -3.5e-10  1.85e-08\n",
       "city                 -0.0595      0.055     -1.078      0.281        -0.168     0.049\n",
       "coast                -0.0920      0.047     -1.958      0.050        -0.184  9.55e-05\n",
       "in_rocky_mountain     0.0128   1.75e+06   7.29e-09      1.000     -3.43e+06  3.43e+06\n",
       "in_plains            -0.1341   1.75e+06  -7.66e-08      1.000     -3.43e+06  3.43e+06\n",
       "in_new_england       -0.2272   1.74e+06  -1.31e-07      1.000     -3.41e+06  3.41e+06\n",
       "in_great_lakes       -0.0086   1.77e+06  -4.85e-09      1.000     -3.47e+06  3.47e+06\n",
       "in_mid_east           0.0141   1.75e+06   8.06e-09      1.000     -3.44e+06  3.44e+06\n",
       "in_south_west        -0.0154   1.78e+06  -8.65e-09      1.000     -3.48e+06  3.48e+06\n",
       "in_south_east         0.0883   1.71e+06   5.18e-08      1.000     -3.34e+06  3.34e+06\n",
       "in_far_west          -0.2441   1.76e+06  -1.38e-07      1.000     -3.46e+06  3.46e+06\n",
       "=====================================================================================\n",
       "\"\"\""
      ]
     },
     "execution_count": 24,
     "metadata": {},
     "output_type": "execute_result"
    }
   ],
   "source": [
    "controlled_model.get_margeff(dummy = True).summary()"
   ]
  },
  {
   "cell_type": "code",
   "execution_count": 25,
   "metadata": {
    "collapsed": false
   },
   "outputs": [
    {
     "name": "stdout",
     "output_type": "stream",
     "text": [
      "             precision    recall  f1-score   support\n",
      "\n",
      "        0.0       0.80      0.71      0.75       207\n",
      "        1.0       0.76      0.83      0.80       228\n",
      "\n",
      "avg / total       0.78      0.78      0.78       435\n",
      "\n",
      "Confusion matrix:\n",
      "\n",
      "[[148  59]\n",
      " [ 38 190]]\n"
     ]
    }
   ],
   "source": [
    "new_predictions = np.array([1 if x >= 0.5 else 0 for x in controlled_model.predict()])\n",
    "\n",
    "print classification_report(congress.repub, new_predictions)\n",
    "print \"Confusion matrix:\\n\"\n",
    "print confusion_matrix(congress.repub, new_predictions)"
   ]
  },
  {
   "cell_type": "markdown",
   "metadata": {},
   "source": [
    "The model improves both true negatives and true positives. The R2 is also at a high of 0.3024 because of the better log likelihood value. It seems controlling for region of the country really helped out the model with its predictive accuracy. According to the marginal effects, a district in the south east has a 8 % chance higher of being republican, all else equal. Employment is still the most significant factore in the model and has the highest effect on probability as in the other models.\n",
    "\n",
    "# Conclusion\n",
    "\n",
    "While there are certainly more powerful (prediction wise) algorithms out there, logistic regression is nice because it can be interpreted meaningfully and actionably. With the help of xgboost, I picked out some features that I wouldn't have otherwise and was able to improve the logit model. After controlling for region, I achieved the best results, with in class predictions at 71% and 83% for democrats and republicans, respectively. With more detailed information on things like district religious preferences, age distributions, previous voting preferences etc, I'm sure that the model would make much better predictions.\n",
    "\n",
    "Thanks for following along! :)"
   ]
  }
 ],
 "metadata": {
  "anaconda-cloud": {},
  "kernelspec": {
   "display_name": "Python [conda root]",
   "language": "python",
   "name": "conda-root-py"
  },
  "language_info": {
   "codemirror_mode": {
    "name": "ipython",
    "version": 2
   },
   "file_extension": ".py",
   "mimetype": "text/x-python",
   "name": "python",
   "nbconvert_exporter": "python",
   "pygments_lexer": "ipython2",
   "version": "2.7.12"
  }
 },
 "nbformat": 4,
 "nbformat_minor": 1
}
