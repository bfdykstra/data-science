{
 "cells": [
  {
   "cell_type": "markdown",
   "metadata": {},
   "source": [
    "# Feature Selection, Logistic Regression, and Congressional Elections\n",
    "\n",
    "In the spirit of our recent election season (hah), I've decided to do some exploration in using boosted trees to identify features that have the most predictive power. Using those selected features, I'll then use a logistic model to predict whether a congressional district will be democrat or republican. \n",
    "\n",
    "For comparison's sake, I'll begin by specifying a logistic model with features that I pick without any empirical evidence to back up my decision.\n",
    "\n",
    "The data describe all 435 districts in the 105th congress from 1997-1998. It contains demographic and employment data for each district as well as a variable indicating whether the district’srepresentative in the House was a Republican or not. Republican districts were coded as 1 while Democratic/independent districts were coded as 0. There are a total of 31 variables, as described below:\n",
    "\n",
    "![Variable descriptions](congress_description.png)"
   ]
  },
  {
   "cell_type": "code",
   "execution_count": 25,
   "metadata": {
    "collapsed": true
   },
   "outputs": [],
   "source": [
    "import pandas as pd\n",
    "import numpy as np\n",
    "import statsmodels.api as sm\n",
    "from statsmodels.discrete.discrete_model import Logit\n",
    "import xgboost as xgb\n",
    "from xgboost.sklearn import XGBClassifier\n",
    "from __future__ import division\n",
    "import seaborn as sns\n",
    "from sklearn.metrics import confusion_matrix, classification_report # important for evaluating classification\n",
    "from sklearn.feature_selection import SelectFromModel\n",
    "\n",
    "%matplotlib inline\n",
    "import matplotlib.pylab as plt\n",
    "from matplotlib.pylab import rcParams\n",
    "rcParams['figure.figsize'] = 18.5, 10.5\n",
    "\n"
   ]
  },
  {
   "cell_type": "code",
   "execution_count": 26,
   "metadata": {
    "collapsed": false
   },
   "outputs": [
    {
     "data": {
      "text/html": [
       "<div>\n",
       "<table border=\"1\" class=\"dataframe\">\n",
       "  <thead>\n",
       "    <tr style=\"text-align: right;\">\n",
       "      <th></th>\n",
       "      <th>state</th>\n",
       "      <th>fipstate</th>\n",
       "      <th>sc</th>\n",
       "      <th>cd</th>\n",
       "      <th>repub</th>\n",
       "      <th>age65</th>\n",
       "      <th>black</th>\n",
       "      <th>blucllr</th>\n",
       "      <th>city</th>\n",
       "      <th>coast</th>\n",
       "      <th>...</th>\n",
       "      <th>miltpop</th>\n",
       "      <th>nucplant</th>\n",
       "      <th>popsqmi</th>\n",
       "      <th>populatn</th>\n",
       "      <th>rurlfarm</th>\n",
       "      <th>transprt</th>\n",
       "      <th>unemplyd</th>\n",
       "      <th>union</th>\n",
       "      <th>urban</th>\n",
       "      <th>whlretl</th>\n",
       "    </tr>\n",
       "  </thead>\n",
       "  <tbody>\n",
       "    <tr>\n",
       "      <th>0</th>\n",
       "      <td>AK</td>\n",
       "      <td>2</td>\n",
       "      <td>81</td>\n",
       "      <td>1</td>\n",
       "      <td>1.0</td>\n",
       "      <td>25898</td>\n",
       "      <td>22566</td>\n",
       "      <td>31560</td>\n",
       "      <td>0</td>\n",
       "      <td>1</td>\n",
       "      <td>...</td>\n",
       "      <td>24991</td>\n",
       "      <td>0</td>\n",
       "      <td>0.964357</td>\n",
       "      <td>629099</td>\n",
       "      <td>1292</td>\n",
       "      <td>20903</td>\n",
       "      <td>26234</td>\n",
       "      <td>30.400000</td>\n",
       "      <td>222119</td>\n",
       "      <td>50986</td>\n",
       "    </tr>\n",
       "    <tr>\n",
       "      <th>1</th>\n",
       "      <td>AL</td>\n",
       "      <td>1</td>\n",
       "      <td>41</td>\n",
       "      <td>1</td>\n",
       "      <td>1.0</td>\n",
       "      <td>72534</td>\n",
       "      <td>164556</td>\n",
       "      <td>43449</td>\n",
       "      <td>0</td>\n",
       "      <td>1</td>\n",
       "      <td>...</td>\n",
       "      <td>1524</td>\n",
       "      <td>0</td>\n",
       "      <td>85.095802</td>\n",
       "      <td>577630</td>\n",
       "      <td>5475</td>\n",
       "      <td>10925</td>\n",
       "      <td>19799</td>\n",
       "      <td>18.200001</td>\n",
       "      <td>301197</td>\n",
       "      <td>52983</td>\n",
       "    </tr>\n",
       "    <tr>\n",
       "      <th>2</th>\n",
       "      <td>AL</td>\n",
       "      <td>1</td>\n",
       "      <td>41</td>\n",
       "      <td>2</td>\n",
       "      <td>1.0</td>\n",
       "      <td>75396</td>\n",
       "      <td>139311</td>\n",
       "      <td>49886</td>\n",
       "      <td>0</td>\n",
       "      <td>0</td>\n",
       "      <td>...</td>\n",
       "      <td>11250</td>\n",
       "      <td>1</td>\n",
       "      <td>56.973942</td>\n",
       "      <td>577203</td>\n",
       "      <td>12491</td>\n",
       "      <td>11820</td>\n",
       "      <td>14127</td>\n",
       "      <td>18.200001</td>\n",
       "      <td>202022</td>\n",
       "      <td>52623</td>\n",
       "    </tr>\n",
       "    <tr>\n",
       "      <th>3</th>\n",
       "      <td>AL</td>\n",
       "      <td>1</td>\n",
       "      <td>41</td>\n",
       "      <td>3</td>\n",
       "      <td>1.0</td>\n",
       "      <td>74506</td>\n",
       "      <td>150175</td>\n",
       "      <td>65849</td>\n",
       "      <td>0</td>\n",
       "      <td>0</td>\n",
       "      <td>...</td>\n",
       "      <td>5804</td>\n",
       "      <td>0</td>\n",
       "      <td>66.190620</td>\n",
       "      <td>577116</td>\n",
       "      <td>8863</td>\n",
       "      <td>7891</td>\n",
       "      <td>17303</td>\n",
       "      <td>18.200001</td>\n",
       "      <td>157275</td>\n",
       "      <td>45284</td>\n",
       "    </tr>\n",
       "    <tr>\n",
       "      <th>4</th>\n",
       "      <td>AL</td>\n",
       "      <td>1</td>\n",
       "      <td>41</td>\n",
       "      <td>4</td>\n",
       "      <td>1.0</td>\n",
       "      <td>84691</td>\n",
       "      <td>38087</td>\n",
       "      <td>74068</td>\n",
       "      <td>0</td>\n",
       "      <td>0</td>\n",
       "      <td>...</td>\n",
       "      <td>463</td>\n",
       "      <td>0</td>\n",
       "      <td>63.142357</td>\n",
       "      <td>577058</td>\n",
       "      <td>16664</td>\n",
       "      <td>9711</td>\n",
       "      <td>16724</td>\n",
       "      <td>18.200001</td>\n",
       "      <td>71451</td>\n",
       "      <td>48266</td>\n",
       "    </tr>\n",
       "  </tbody>\n",
       "</table>\n",
       "<p>5 rows × 32 columns</p>\n",
       "</div>"
      ],
      "text/plain": [
       "  state  fipstate  sc  cd  repub  age65   black  blucllr  city  coast  \\\n",
       "0    AK         2  81   1    1.0  25898   22566    31560     0      1   \n",
       "1    AL         1  41   1    1.0  72534  164556    43449     0      1   \n",
       "2    AL         1  41   2    1.0  75396  139311    49886     0      0   \n",
       "3    AL         1  41   3    1.0  74506  150175    65849     0      0   \n",
       "4    AL         1  41   4    1.0  84691   38087    74068     0      0   \n",
       "\n",
       "    ...     miltpop  nucplant    popsqmi  populatn  rurlfarm  transprt  \\\n",
       "0   ...       24991         0   0.964357    629099      1292     20903   \n",
       "1   ...        1524         0  85.095802    577630      5475     10925   \n",
       "2   ...       11250         1  56.973942    577203     12491     11820   \n",
       "3   ...        5804         0  66.190620    577116      8863      7891   \n",
       "4   ...         463         0  63.142357    577058     16664      9711   \n",
       "\n",
       "   unemplyd      union   urban  whlretl  \n",
       "0     26234  30.400000  222119    50986  \n",
       "1     19799  18.200001  301197    52983  \n",
       "2     14127  18.200001  202022    52623  \n",
       "3     17303  18.200001  157275    45284  \n",
       "4     16724  18.200001   71451    48266  \n",
       "\n",
       "[5 rows x 32 columns]"
      ]
     },
     "execution_count": 26,
     "metadata": {},
     "output_type": "execute_result"
    }
   ],
   "source": [
    "congress = pd.read_stata(\"http://rlhick.people.wm.edu/econ407/data/congressional_105.dta\" )\n",
    "congress.head()"
   ]
  },
  {
   "cell_type": "markdown",
   "metadata": {},
   "source": [
    "For the naive logit model, I will estimate\n",
    "\n",
    "$$ repub = \\beta_0 + \\beta_1 per\\_age65 + \\beta_2 per\\_black + \\beta_3 per\\_bluecllr + \\beta_4 city + \\beta_5 mdnincm + \\beta_6 per\\_unemployed + \\beta_7 union $$\n",
    "\n",
    "\n",
    "where per\\_ indicates that variable is a percentage of the district. I use percentages so that (presumably) the results are agnostic of the size of a district and can be generalized to any region in the US. \n",
    "\n",
    "( I should make a geographic region indicator variable. )\n"
   ]
  },
  {
   "cell_type": "code",
   "execution_count": 27,
   "metadata": {
    "collapsed": true
   },
   "outputs": [],
   "source": [
    "#making percentages\n",
    "variables = ['unemplyd', 'age65', 'black', 'blucllr']\n",
    "\n",
    "for v in variables:\n",
    "    congress['per_' + v] = congress[[v, 'populatn']].apply(lambda row: (row[0] / row[1])*100, axis = 1)"
   ]
  },
  {
   "cell_type": "markdown",
   "metadata": {},
   "source": [
    "Before I do anything, I check for null values and get a sense of the data"
   ]
  },
  {
   "cell_type": "code",
   "execution_count": 28,
   "metadata": {
    "collapsed": false
   },
   "outputs": [
    {
     "data": {
      "text/html": [
       "<div>\n",
       "<table border=\"1\" class=\"dataframe\">\n",
       "  <thead>\n",
       "    <tr style=\"text-align: right;\">\n",
       "      <th></th>\n",
       "      <th>state</th>\n",
       "      <th>fipstate</th>\n",
       "      <th>sc</th>\n",
       "      <th>cd</th>\n",
       "      <th>repub</th>\n",
       "      <th>age65</th>\n",
       "      <th>black</th>\n",
       "      <th>blucllr</th>\n",
       "      <th>city</th>\n",
       "      <th>coast</th>\n",
       "      <th>...</th>\n",
       "      <th>rurlfarm</th>\n",
       "      <th>transprt</th>\n",
       "      <th>unemplyd</th>\n",
       "      <th>union</th>\n",
       "      <th>urban</th>\n",
       "      <th>whlretl</th>\n",
       "      <th>per_unemplyd</th>\n",
       "      <th>per_age65</th>\n",
       "      <th>per_black</th>\n",
       "      <th>per_blucllr</th>\n",
       "    </tr>\n",
       "  </thead>\n",
       "  <tbody>\n",
       "    <tr>\n",
       "      <th>318</th>\n",
       "      <td>OK</td>\n",
       "      <td>40</td>\n",
       "      <td>53</td>\n",
       "      <td>1</td>\n",
       "      <td>NaN</td>\n",
       "      <td>119200</td>\n",
       "      <td>99968</td>\n",
       "      <td>57876</td>\n",
       "      <td>1</td>\n",
       "      <td>0</td>\n",
       "      <td>...</td>\n",
       "      <td>1750</td>\n",
       "      <td>32948</td>\n",
       "      <td>27258</td>\n",
       "      <td>12.9</td>\n",
       "      <td>924952</td>\n",
       "      <td>117114</td>\n",
       "      <td>2.600284</td>\n",
       "      <td>11.371116</td>\n",
       "      <td>9.536474</td>\n",
       "      <td>5.521097</td>\n",
       "    </tr>\n",
       "  </tbody>\n",
       "</table>\n",
       "<p>1 rows × 36 columns</p>\n",
       "</div>"
      ],
      "text/plain": [
       "    state  fipstate  sc  cd  repub   age65  black  blucllr  city  coast  \\\n",
       "318    OK        40  53   1    NaN  119200  99968    57876     1      0   \n",
       "\n",
       "        ...       rurlfarm  transprt  unemplyd  union   urban  whlretl  \\\n",
       "318     ...           1750     32948     27258   12.9  924952   117114   \n",
       "\n",
       "     per_unemplyd  per_age65  per_black  per_blucllr  \n",
       "318      2.600284  11.371116   9.536474     5.521097  \n",
       "\n",
       "[1 rows x 36 columns]"
      ]
     },
     "execution_count": 28,
     "metadata": {},
     "output_type": "execute_result"
    }
   ],
   "source": [
    "congress[congress.repub.isnull()]"
   ]
  },
  {
   "cell_type": "markdown",
   "metadata": {},
   "source": [
    "After doing some research on Oklahoma's first congressional district, they had republican congressman Steve Largent from 1994 to 2002. I will code that row as republican."
   ]
  },
  {
   "cell_type": "code",
   "execution_count": 29,
   "metadata": {
    "collapsed": true
   },
   "outputs": [],
   "source": [
    "congress.repub.fillna(value = 1, inplace = True)"
   ]
  },
  {
   "cell_type": "markdown",
   "metadata": {},
   "source": [
    "Lets see how balanced my data set is "
   ]
  },
  {
   "cell_type": "code",
   "execution_count": 30,
   "metadata": {
    "collapsed": false
   },
   "outputs": [
    {
     "data": {
      "image/png": "[encoded data removed]",
      "text/plain": [
       "<matplotlib.figure.Figure at 0x11e4d2b10>"
      ]
     },
     "metadata": {},
     "output_type": "display_data"
    }
   ],
   "source": [
    "sns.distplot(congress.repub, kde = False); "
   ]
  },
  {
   "cell_type": "code",
   "execution_count": 31,
   "metadata": {
    "collapsed": false
   },
   "outputs": [
    {
     "name": "stdout",
     "output_type": "stream",
     "text": [
      "1.0    228\n",
      "0.0    207\n",
      "Name: repub, dtype: int64\n"
     ]
    }
   ],
   "source": [
    "print congress.repub.value_counts()"
   ]
  },
  {
   "cell_type": "markdown",
   "metadata": {},
   "source": [
    "So our data is fairly balanced, although republicans have the slight majority. Lets check out the relationship between the blue collar workers and black population:"
   ]
  },
  {
   "cell_type": "code",
   "execution_count": 32,
   "metadata": {
    "collapsed": false
   },
   "outputs": [
    {
     "data": {
      "image/png": "[encoded data removed]",
      "text/plain": [
       "<matplotlib.figure.Figure at 0x11cfac510>"
      ]
     },
     "metadata": {},
     "output_type": "display_data"
    }
   ],
   "source": [
    "sns.regplot(congress.per_black, congress.per_blucllr);"
   ]
  },
  {
   "cell_type": "markdown",
   "metadata": {},
   "source": [
    "There doesn't seem to be a definite relationship between the percentage of blue collar workers and percentage of black population. Lets take a look at percentage of black population and electing a republican congressman:"
   ]
  },
  {
   "cell_type": "code",
   "execution_count": 33,
   "metadata": {
    "collapsed": false
   },
   "outputs": [
    {
     "name": "stdout",
     "output_type": "stream",
     "text": [
      "Districts that went Republican: \n",
      "count    228.000000\n",
      "mean       7.139820\n",
      "std        7.773183\n",
      "min        0.178235\n",
      "25%        2.148288\n",
      "50%        4.678620\n",
      "75%        8.204570\n",
      "max       40.724916\n",
      "Name: per_black, dtype: float64\n",
      "\n",
      "Districts that went Democrat: \n",
      "count    207.000000\n",
      "mean      17.020763\n",
      "std       20.083805\n",
      "min        0.131355\n",
      "25%        2.776919\n",
      "50%        8.122120\n",
      "75%       21.369574\n",
      "max       73.948710\n",
      "Name: per_black, dtype: float64\n"
     ]
    }
   ],
   "source": [
    "print \"Districts that went Republican: \\n\",congress[congress.repub == 1].per_black.describe()\n",
    "\n",
    "print \"\\nDistricts that went Democrat: \\n\",congress[congress.repub == 0].per_black.describe()"
   ]
  },
  {
   "cell_type": "code",
   "execution_count": 34,
   "metadata": {
    "collapsed": false
   },
   "outputs": [
    {
     "name": "stdout",
     "output_type": "stream",
     "text": [
      "Districts that went Republican: \n",
      "count    228.000000\n",
      "mean       7.139820\n",
      "std        7.773183\n",
      "min        0.178235\n",
      "25%        2.148288\n",
      "50%        4.678620\n",
      "75%        8.204570\n",
      "max       40.724916\n",
      "Name: per_black, dtype: float64\n",
      "\n",
      "Districts that went Democrat: \n",
      "count    207.000000\n",
      "mean      17.020763\n",
      "std       20.083805\n",
      "min        0.131355\n",
      "25%        2.776919\n",
      "50%        8.122120\n",
      "75%       21.369574\n",
      "max       73.948710\n",
      "Name: per_black, dtype: float64\n"
     ]
    }
   ],
   "source": [
    "print \"Districts that went Republican: \\n\",congress[congress.repub == 1].per_black.describe()\n",
    "\n",
    "print \"\\nDistricts that went Democrat: \\n\",congress[congress.repub == 0].per_black.describe()"
   ]
  },
  {
   "cell_type": "markdown",
   "metadata": {},
   "source": [
    "The median value for districts that went Democrat is 4 % higher than those that went republican. In addition to the districts that went Republican are more closely centered around the mean and median, where as in the districts that went Democrat, there is a significant discrepancy between the mean and median. In fact, 25 % of the data falls between 8.12 % and 21.36 % for Democratic districts, but in Republican districts that number is 4.6 % and 8.2 %.\n",
    "\n",
    "I expect that the percentage of the population that is black will have significant predicitive power in our model. \n",
    "\n",
    "\n",
    "Examine the correlation between our variables of interest:"
   ]
  },
  {
   "cell_type": "code",
   "execution_count": 35,
   "metadata": {
    "collapsed": false
   },
   "outputs": [
    {
     "data": {
      "text/html": [
       "<div>\n",
       "<table border=\"1\" class=\"dataframe\">\n",
       "  <thead>\n",
       "    <tr style=\"text-align: right;\">\n",
       "      <th></th>\n",
       "      <th>per_age65</th>\n",
       "      <th>per_black</th>\n",
       "      <th>per_blucllr</th>\n",
       "      <th>city</th>\n",
       "      <th>mdnincm</th>\n",
       "      <th>per_unemplyd</th>\n",
       "      <th>union</th>\n",
       "    </tr>\n",
       "  </thead>\n",
       "  <tbody>\n",
       "    <tr>\n",
       "      <th>per_age65</th>\n",
       "      <td>1.000000</td>\n",
       "      <td>-0.135644</td>\n",
       "      <td>-0.003851</td>\n",
       "      <td>-0.151725</td>\n",
       "      <td>-0.176406</td>\n",
       "      <td>-0.154773</td>\n",
       "      <td>-0.016208</td>\n",
       "    </tr>\n",
       "    <tr>\n",
       "      <th>per_black</th>\n",
       "      <td>-0.135644</td>\n",
       "      <td>1.000000</td>\n",
       "      <td>0.055332</td>\n",
       "      <td>0.232024</td>\n",
       "      <td>-0.312837</td>\n",
       "      <td>0.549604</td>\n",
       "      <td>-0.135479</td>\n",
       "    </tr>\n",
       "    <tr>\n",
       "      <th>per_blucllr</th>\n",
       "      <td>-0.003851</td>\n",
       "      <td>0.055332</td>\n",
       "      <td>1.000000</td>\n",
       "      <td>-0.198259</td>\n",
       "      <td>-0.470878</td>\n",
       "      <td>0.110561</td>\n",
       "      <td>-0.067490</td>\n",
       "    </tr>\n",
       "    <tr>\n",
       "      <th>city</th>\n",
       "      <td>-0.151725</td>\n",
       "      <td>0.232024</td>\n",
       "      <td>-0.198259</td>\n",
       "      <td>1.000000</td>\n",
       "      <td>-0.002129</td>\n",
       "      <td>0.299911</td>\n",
       "      <td>0.089047</td>\n",
       "    </tr>\n",
       "    <tr>\n",
       "      <th>mdnincm</th>\n",
       "      <td>-0.176406</td>\n",
       "      <td>-0.312837</td>\n",
       "      <td>-0.470878</td>\n",
       "      <td>-0.002129</td>\n",
       "      <td>1.000000</td>\n",
       "      <td>-0.505595</td>\n",
       "      <td>0.251465</td>\n",
       "    </tr>\n",
       "    <tr>\n",
       "      <th>per_unemplyd</th>\n",
       "      <td>-0.154773</td>\n",
       "      <td>0.549604</td>\n",
       "      <td>0.110561</td>\n",
       "      <td>0.299911</td>\n",
       "      <td>-0.505595</td>\n",
       "      <td>1.000000</td>\n",
       "      <td>0.167665</td>\n",
       "    </tr>\n",
       "    <tr>\n",
       "      <th>union</th>\n",
       "      <td>-0.016208</td>\n",
       "      <td>-0.135479</td>\n",
       "      <td>-0.067490</td>\n",
       "      <td>0.089047</td>\n",
       "      <td>0.251465</td>\n",
       "      <td>0.167665</td>\n",
       "      <td>1.000000</td>\n",
       "    </tr>\n",
       "  </tbody>\n",
       "</table>\n",
       "</div>"
      ],
      "text/plain": [
       "              per_age65  per_black  per_blucllr      city   mdnincm  \\\n",
       "per_age65      1.000000  -0.135644    -0.003851 -0.151725 -0.176406   \n",
       "per_black     -0.135644   1.000000     0.055332  0.232024 -0.312837   \n",
       "per_blucllr   -0.003851   0.055332     1.000000 -0.198259 -0.470878   \n",
       "city          -0.151725   0.232024    -0.198259  1.000000 -0.002129   \n",
       "mdnincm       -0.176406  -0.312837    -0.470878 -0.002129  1.000000   \n",
       "per_unemplyd  -0.154773   0.549604     0.110561  0.299911 -0.505595   \n",
       "union         -0.016208  -0.135479    -0.067490  0.089047  0.251465   \n",
       "\n",
       "              per_unemplyd     union  \n",
       "per_age65        -0.154773 -0.016208  \n",
       "per_black         0.549604 -0.135479  \n",
       "per_blucllr       0.110561 -0.067490  \n",
       "city              0.299911  0.089047  \n",
       "mdnincm          -0.505595  0.251465  \n",
       "per_unemplyd      1.000000  0.167665  \n",
       "union             0.167665  1.000000  "
      ]
     },
     "execution_count": 35,
     "metadata": {},
     "output_type": "execute_result"
    }
   ],
   "source": [
    "ind_vars = [ 'per_age65', 'per_black', 'per_blucllr', 'city','mdnincm', 'per_unemplyd', 'union']\n",
    "congress[ind_vars].corr()"
   ]
  },
  {
   "cell_type": "markdown",
   "metadata": {},
   "source": [
    "Nothing seriously outrageous to see here. Percent black and unemployment have the highest correlation at 54.9%, followed by city and unemployment at 29.9%. Something to keep in mind when we are doing feature selections."
   ]
  },
  {
   "cell_type": "markdown",
   "metadata": {},
   "source": [
    "## quick aside about MLE and Logit\n",
    "\n",
    "I'm not going to go in to a ton detail about logistic regression, because it has been done ad nauseam. If you would like more info about it, the [wiki](https://en.wikipedia.org/wiki/Logistic_regression) is a great place to start. \n",
    "\n",
    "I'd like to detail a bit about MLE or maximum likelihood estimation in the context of the logit model. Stats models uses maximum likelihood to estimate the coefficients. In order to use MLE, we assume that the errors in our model are independent and identically Logit distributed. The cumulative logit function is given by:\n",
    "\n",
    "$$ P(y = 1 | \\textbf{x_i}) = \\int_{-\\infty}^{\\textbf{x_i} \\beta} f(t)dt = \\frac{e^{\\textbf{x_i} \\beta}}{1 + e^{\\textbf{x_i} \\beta}}$$\n",
    "\n",
    "The log-likelihood is is then:\n",
    "$$ \\Sigma_{i = 1}^{N} P(y = 1 | \\textbf{x_i} \\beta) \\times (y_i) + (1 - P(y = 1 | \\textbf{x_i} \\beta) \\times (1 - y_i) $$\n",
    "\n",
    "When I run a logitstic model in statsmodels, it estimates parameters $\\textbf{b}$ such that the above sum is maximized. \n",
    "\n",
    "So now that we know what's going on behind the scenes, lets heckin do it :)\n"
   ]
  },
  {
   "cell_type": "code",
   "execution_count": 36,
   "metadata": {
    "collapsed": false
   },
   "outputs": [
    {
     "name": "stdout",
     "output_type": "stream",
     "text": [
      "Optimization terminated successfully.\n",
      "         Current function value: 0.542084\n",
      "         Iterations 7\n"
     ]
    },
    {
     "data": {
      "text/html": [
       "<table class=\"simpletable\">\n",
       "<caption>Logit Regression Results</caption>\n",
       "<tr>\n",
       "  <th>Dep. Variable:</th>       <td>repub</td>      <th>  No. Observations:  </th>  <td>   435</td>  \n",
       "</tr>\n",
       "<tr>\n",
       "  <th>Model:</th>               <td>Logit</td>      <th>  Df Residuals:      </th>  <td>   427</td>  \n",
       "</tr>\n",
       "<tr>\n",
       "  <th>Method:</th>               <td>MLE</td>       <th>  Df Model:          </th>  <td>     7</td>  \n",
       "</tr>\n",
       "<tr>\n",
       "  <th>Date:</th>          <td>Mon, 28 Nov 2016</td> <th>  Pseudo R-squ.:     </th>  <td>0.2166</td>  \n",
       "</tr>\n",
       "<tr>\n",
       "  <th>Time:</th>              <td>22:02:56</td>     <th>  Log-Likelihood:    </th> <td> -235.81</td> \n",
       "</tr>\n",
       "<tr>\n",
       "  <th>converged:</th>           <td>True</td>       <th>  LL-Null:           </th> <td> -301.01</td> \n",
       "</tr>\n",
       "<tr>\n",
       "  <th> </th>                      <td> </td>        <th>  LLR p-value:       </th> <td>5.158e-25</td>\n",
       "</tr>\n",
       "</table>\n",
       "<table class=\"simpletable\">\n",
       "<tr>\n",
       "        <td></td>          <th>coef</th>     <th>std err</th>      <th>z</th>      <th>P>|z|</th> <th>[95.0% Conf. Int.]</th> \n",
       "</tr>\n",
       "<tr>\n",
       "  <th>const</th>        <td>    9.5500</td> <td>    1.618</td> <td>    5.902</td> <td> 0.000</td> <td>    6.378    12.722</td>\n",
       "</tr>\n",
       "<tr>\n",
       "  <th>per_age65</th>    <td>   -0.1199</td> <td>    0.037</td> <td>   -3.217</td> <td> 0.001</td> <td>   -0.193    -0.047</td>\n",
       "</tr>\n",
       "<tr>\n",
       "  <th>per_black</th>    <td>   -0.0504</td> <td>    0.013</td> <td>   -3.956</td> <td> 0.000</td> <td>   -0.075    -0.025</td>\n",
       "</tr>\n",
       "<tr>\n",
       "  <th>per_blucllr</th>  <td>   -0.0712</td> <td>    0.063</td> <td>   -1.135</td> <td> 0.256</td> <td>   -0.194     0.052</td>\n",
       "</tr>\n",
       "<tr>\n",
       "  <th>city</th>         <td>   -0.6513</td> <td>    0.259</td> <td>   -2.519</td> <td> 0.012</td> <td>   -1.158    -0.145</td>\n",
       "</tr>\n",
       "<tr>\n",
       "  <th>mdnincm</th>      <td>-5.843e-05</td> <td> 1.92e-05</td> <td>   -3.037</td> <td> 0.002</td> <td>-9.61e-05 -2.07e-05</td>\n",
       "</tr>\n",
       "<tr>\n",
       "  <th>per_unemplyd</th> <td>   -1.4488</td> <td>    0.233</td> <td>   -6.210</td> <td> 0.000</td> <td>   -1.906    -0.992</td>\n",
       "</tr>\n",
       "<tr>\n",
       "  <th>union</th>        <td>   -0.0280</td> <td>    0.016</td> <td>   -1.705</td> <td> 0.088</td> <td>   -0.060     0.004</td>\n",
       "</tr>\n",
       "</table>"
      ],
      "text/plain": [
       "<class 'statsmodels.iolib.summary.Summary'>\n",
       "\"\"\"\n",
       "                           Logit Regression Results                           \n",
       "==============================================================================\n",
       "Dep. Variable:                  repub   No. Observations:                  435\n",
       "Model:                          Logit   Df Residuals:                      427\n",
       "Method:                           MLE   Df Model:                            7\n",
       "Date:                Mon, 28 Nov 2016   Pseudo R-squ.:                  0.2166\n",
       "Time:                        22:02:56   Log-Likelihood:                -235.81\n",
       "converged:                       True   LL-Null:                       -301.01\n",
       "                                        LLR p-value:                 5.158e-25\n",
       "================================================================================\n",
       "                   coef    std err          z      P>|z|      [95.0% Conf. Int.]\n",
       "--------------------------------------------------------------------------------\n",
       "const            9.5500      1.618      5.902      0.000         6.378    12.722\n",
       "per_age65       -0.1199      0.037     -3.217      0.001        -0.193    -0.047\n",
       "per_black       -0.0504      0.013     -3.956      0.000        -0.075    -0.025\n",
       "per_blucllr     -0.0712      0.063     -1.135      0.256        -0.194     0.052\n",
       "city            -0.6513      0.259     -2.519      0.012        -1.158    -0.145\n",
       "mdnincm      -5.843e-05   1.92e-05     -3.037      0.002     -9.61e-05 -2.07e-05\n",
       "per_unemplyd    -1.4488      0.233     -6.210      0.000        -1.906    -0.992\n",
       "union           -0.0280      0.016     -1.705      0.088        -0.060     0.004\n",
       "================================================================================\n",
       "\"\"\""
      ]
     },
     "execution_count": 36,
     "metadata": {},
     "output_type": "execute_result"
    }
   ],
   "source": [
    "\n",
    "dep_var = 'repub'\n",
    "\n",
    "x_const = sm.add_constant(congress[ind_vars])\n",
    "y = congress[dep_var]\n",
    "\n",
    "#Logit and probit models\n",
    "\n",
    "logit_results = Logit(y, x_const).fit()\n",
    "logit_results.summary()"
   ]
  },
  {
   "cell_type": "code",
   "execution_count": 37,
   "metadata": {
    "collapsed": false
   },
   "outputs": [
    {
     "data": {
      "text/html": [
       "<table class=\"simpletable\">\n",
       "<caption>Logit Marginal Effects</caption>\n",
       "<tr>\n",
       "  <th>Dep. Variable:</th>  <td>repub</td> \n",
       "</tr>\n",
       "<tr>\n",
       "  <th>Method:</th>         <td>dydx</td>  \n",
       "</tr>\n",
       "<tr>\n",
       "  <th>At:</th>            <td>overall</td>\n",
       "</tr>\n",
       "</table>\n",
       "<table class=\"simpletable\">\n",
       "<tr>\n",
       "        <th></th>          <th>dy/dx</th>    <th>std err</th>      <th>z</th>      <th>P>|z|</th> <th>[95.0% Conf. Int.]</th> \n",
       "</tr>\n",
       "<tr>\n",
       "  <th>per_age65</th>    <td>   -0.0221</td> <td>    0.007</td> <td>   -3.363</td> <td> 0.001</td> <td>   -0.035    -0.009</td>\n",
       "</tr>\n",
       "<tr>\n",
       "  <th>per_black</th>    <td>   -0.0093</td> <td>    0.002</td> <td>   -4.215</td> <td> 0.000</td> <td>   -0.014    -0.005</td>\n",
       "</tr>\n",
       "<tr>\n",
       "  <th>per_blucllr</th>  <td>   -0.0122</td> <td>    0.010</td> <td>   -1.269</td> <td> 0.205</td> <td>   -0.031     0.007</td>\n",
       "</tr>\n",
       "<tr>\n",
       "  <th>city</th>         <td>   -0.1201</td> <td>    0.046</td> <td>   -2.586</td> <td> 0.010</td> <td>   -0.211    -0.029</td>\n",
       "</tr>\n",
       "<tr>\n",
       "  <th>mdnincm</th>      <td>-1.077e-05</td> <td>  3.4e-06</td> <td>   -3.163</td> <td> 0.002</td> <td>-1.74e-05  -4.1e-06</td>\n",
       "</tr>\n",
       "<tr>\n",
       "  <th>per_unemplyd</th> <td>   -0.2670</td> <td>    0.035</td> <td>   -7.538</td> <td> 0.000</td> <td>   -0.336    -0.198</td>\n",
       "</tr>\n",
       "<tr>\n",
       "  <th>union</th>        <td>   -0.0052</td> <td>    0.003</td> <td>   -1.725</td> <td> 0.085</td> <td>   -0.011     0.001</td>\n",
       "</tr>\n",
       "</table>"
      ],
      "text/plain": [
       "<class 'statsmodels.iolib.summary.Summary'>\n",
       "\"\"\"\n",
       "        Logit Marginal Effects       \n",
       "=====================================\n",
       "Dep. Variable:                  repub\n",
       "Method:                          dydx\n",
       "At:                           overall\n",
       "================================================================================\n",
       "                  dy/dx    std err          z      P>|z|      [95.0% Conf. Int.]\n",
       "--------------------------------------------------------------------------------\n",
       "per_age65       -0.0221      0.007     -3.363      0.001        -0.035    -0.009\n",
       "per_black       -0.0093      0.002     -4.215      0.000        -0.014    -0.005\n",
       "per_blucllr     -0.0122      0.010     -1.269      0.205        -0.031     0.007\n",
       "city            -0.1201      0.046     -2.586      0.010        -0.211    -0.029\n",
       "mdnincm      -1.077e-05    3.4e-06     -3.163      0.002     -1.74e-05  -4.1e-06\n",
       "per_unemplyd    -0.2670      0.035     -7.538      0.000        -0.336    -0.198\n",
       "union           -0.0052      0.003     -1.725      0.085        -0.011     0.001\n",
       "================================================================================\n",
       "\"\"\""
      ]
     },
     "execution_count": 37,
     "metadata": {},
     "output_type": "execute_result"
    }
   ],
   "source": [
    "logit_results.get_margeff(dummy = True).summary()"
   ]
  },
  {
   "cell_type": "markdown",
   "metadata": {},
   "source": [
    "Before I look at how well the model is classifying, I'll interpret the marginal effects:\n",
    "\n",
    "For each variable that is a percentage, the marginal effect is the amount that the probability drops for each percent increase in that variable. Those include per_age65, per_black, per_bluecllr, per_unemplyd, and union. The most notable of these is that for every percentage increase in unemployment, the probability that the district elects a republican congressman or woman  decreases by almost 27%!! Oh how the times have changed.\n",
    "\n",
    "Another interesting result is that for every 10,000 \\$ increase in median income, the probability of a republican goes down by about 10.7 %. This goes against conventional wisdom that says that richer folks prefer republican canidates. Again, I think that if region was controlled for, the effect may be different.\n",
    "\n",
    "Something that I think would be interesting to explore is how religious preferences within each district affect republican chances. Anyway, on to the classification reports"
   ]
  },
  {
   "cell_type": "code",
   "execution_count": 38,
   "metadata": {
    "collapsed": false
   },
   "outputs": [
    {
     "name": "stdout",
     "output_type": "stream",
     "text": [
      "             precision    recall  f1-score   support\n",
      "\n",
      "        0.0       0.74      0.67      0.70       207\n",
      "        1.0       0.72      0.78      0.75       228\n",
      "\n",
      "avg / total       0.73      0.73      0.73       435\n",
      "\n",
      "Confusion matrix:\n",
      "\n",
      "[[139  68]\n",
      " [ 50 178]]\n"
     ]
    }
   ],
   "source": [
    "predictions = np.array([1 if x >= 0.5 else 0 for x in logit_results.predict()])\n",
    "\n",
    "print classification_report(congress.repub, predictions)\n",
    "print \"Confusion matrix:\\n\"\n",
    "print confusion_matrix(congress.repub, predictions)"
   ]
  },
  {
   "cell_type": "markdown",
   "metadata": {},
   "source": [
    "Okay, so the model isn't *awful*, although it could use some serious improvement. Democratic districts are only classified correctly (139 / (139 + 68)) = 67% of the time. Okay so that's not very good at all.\n",
    "\n",
    "We proceed boldy forward by diving in to **Feature Selection**\n",
    "\n",
    "## Using a Boosted classifier to do Feature Selection\n",
    "\n",
    "A cool feature of the xgboost library is that after it estimates all the trees, it calculates for each tree the amount that each attribute split point improves the performance measure, weighted by the number of observations the node is responsible for. The performance measure may be the purity (Gini index) used to select the split points or another more specific error function. For more information, check out [this](http://stats.stackexchange.com/questions/162162/relative-variable-importance-for-boosting) stack overflow question.\n",
    "\n",
    "I start with using all variables except those that are identifying information like state, FIPS code etc. I also make the rest of the population count variables in to percentages so that they are comparable to other districts."
   ]
  },
  {
   "cell_type": "code",
   "execution_count": 40,
   "metadata": {
    "collapsed": false
   },
   "outputs": [
    {
     "data": {
      "text/plain": [
       "array(['state', 'fipstate', 'sc', 'cd', 'repub', 'age65', 'black',\n",
       "       'blucllr', 'city', 'coast', 'construc', 'cvllbrfr', 'enroll',\n",
       "       'farmer', 'finance', 'forborn', 'gvtwrkr', 'intrland', 'landsqmi',\n",
       "       'mdnincm', 'miltinst', 'miltmajr', 'miltpop', 'nucplant', 'popsqmi',\n",
       "       'populatn', 'rurlfarm', 'transprt', 'unemplyd', 'union', 'urban',\n",
       "       'whlretl', 'per_unemplyd', 'per_age65', 'per_black', 'per_blucllr'], dtype=object)"
      ]
     },
     "execution_count": 40,
     "metadata": {},
     "output_type": "execute_result"
    }
   ],
   "source": [
    "congress.columns.values"
   ]
  },
  {
   "cell_type": "code",
   "execution_count": 47,
   "metadata": {
    "collapsed": false
   },
   "outputs": [],
   "source": [
    "needs_convert = ['construc', 'cvllbrfr', 'enroll', 'farmer', 'finance', 'forborn', 'gvtwrkr', 'miltpop',\n",
    "                 'rurlfarm', 'transprt', 'urban', 'whlretl']\n",
    "for v in needs_convert:\n",
    "    congress['per_' + v] = congress[[v, 'populatn']].apply(lambda row: (row[0] / row[1])*100, axis = 1)\n",
    "\n",
    "all_ind_vars = ['per_age65', 'per_black', 'per_blucllr', 'city','coast', 'per_construc', 'per_cvllbrfr', \n",
    "                'per_enroll','per_farmer', 'per_finance', 'per_forborn', 'per_gvtwrkr', 'intrland', 'landsqmi', \n",
    "                'mdnincm', 'miltinst', 'miltmajr', 'per_miltpop', 'nucplant', 'popsqmi','populatn', 'per_rurlfarm', \n",
    "                'per_transprt', 'per_unemplyd', 'union', 'per_urban','per_whlretl']\n",
    "\n"
   ]
  },
  {
   "cell_type": "code",
   "execution_count": 48,
   "metadata": {
    "collapsed": false
   },
   "outputs": [
    {
     "data": {
      "text/plain": [
       "XGBClassifier(base_score=0.5, colsample_bylevel=1, colsample_bytree=1,\n",
       "       gamma=0, learning_rate=0.1, max_delta_step=0, max_depth=4,\n",
       "       min_child_weight=1, missing=None, n_estimators=100, nthread=-1,\n",
       "       objective='binary:logistic', reg_alpha=0, reg_lambda=1,\n",
       "       scale_pos_weight=1, seed=0, silent=True, subsample=1)"
      ]
     },
     "execution_count": 48,
     "metadata": {},
     "output_type": "execute_result"
    }
   ],
   "source": [
    "boosted = XGBClassifier(max_depth= 4, objective= 'binary:logistic')\n",
    "boosted.fit(congress[all_ind_vars], congress.repub)"
   ]
  },
  {
   "cell_type": "code",
   "execution_count": 49,
   "metadata": {
    "collapsed": false
   },
   "outputs": [
    {
     "data": {
      "image/png": "[encoded data removed]",
      "text/plain": [
       "<matplotlib.figure.Figure at 0x11ddd66d0>"
      ]
     },
     "metadata": {},
     "output_type": "display_data"
    }
   ],
   "source": [
    "xgb.plot_importance(boosted.booster());"
   ]
  },
  {
   "cell_type": "markdown",
   "metadata": {
    "collapsed": false
   },
   "source": [
    "Some surprising results, some expected results.\n",
    "\n",
    "**Unexpected:**\n",
    "\n",
    "The percentage of the population that works construction is the most important feature... interesting. Personally, I would consider construction work to be blue collar work, however, they weren't counted as part of the population that constituted blue collar workers. Maybe instead of campaigning with the steel workers, congressmen should pander to construction unions (do those even exist?). The size of the district also plays a significant role. It will be interesting to see whether size contributes positively or negatively to the probability of a republican.\n",
    "\n",
    "Government, transport and utility workers also contribute significantly. A common theme here is features that are most important are either directly related to government work or somehow often implicated with government. Indeed, whether a person is employed or not seriously colors their view of how the government should be run. \n",
    "\n",
    "\n",
    "**Expected**\n",
    "\n",
    "I was right about unemployment and the black population playing a large role in elections! Sweet validation. \n",
    "\n"
   ]
  },
  {
   "cell_type": "code",
   "execution_count": 54,
   "metadata": {
    "collapsed": false
   },
   "outputs": [
    {
     "name": "stdout",
     "output_type": "stream",
     "text": [
      "Optimization terminated successfully.\n",
      "         Current function value: 0.508994\n",
      "         Iterations 7\n"
     ]
    },
    {
     "data": {
      "text/html": [
       "<table class=\"simpletable\">\n",
       "<caption>Logit Regression Results</caption>\n",
       "<tr>\n",
       "  <th>Dep. Variable:</th>       <td>repub</td>      <th>  No. Observations:  </th>  <td>   435</td>  \n",
       "</tr>\n",
       "<tr>\n",
       "  <th>Model:</th>               <td>Logit</td>      <th>  Df Residuals:      </th>  <td>   424</td>  \n",
       "</tr>\n",
       "<tr>\n",
       "  <th>Method:</th>               <td>MLE</td>       <th>  Df Model:          </th>  <td>    10</td>  \n",
       "</tr>\n",
       "<tr>\n",
       "  <th>Date:</th>          <td>Mon, 28 Nov 2016</td> <th>  Pseudo R-squ.:     </th>  <td>0.2644</td>  \n",
       "</tr>\n",
       "<tr>\n",
       "  <th>Time:</th>              <td>23:36:05</td>     <th>  Log-Likelihood:    </th> <td> -221.41</td> \n",
       "</tr>\n",
       "<tr>\n",
       "  <th>converged:</th>           <td>True</td>       <th>  LL-Null:           </th> <td> -301.01</td> \n",
       "</tr>\n",
       "<tr>\n",
       "  <th> </th>                      <td> </td>        <th>  LLR p-value:       </th> <td>4.741e-29</td>\n",
       "</tr>\n",
       "</table>\n",
       "<table class=\"simpletable\">\n",
       "<tr>\n",
       "        <td></td>          <th>coef</th>     <th>std err</th>      <th>z</th>      <th>P>|z|</th> <th>[95.0% Conf. Int.]</th> \n",
       "</tr>\n",
       "<tr>\n",
       "  <th>const</th>        <td>   -3.5565</td> <td>    2.331</td> <td>   -1.526</td> <td> 0.127</td> <td>   -8.126     1.013</td>\n",
       "</tr>\n",
       "<tr>\n",
       "  <th>per_construc</th> <td>    0.3817</td> <td>    0.204</td> <td>    1.868</td> <td> 0.062</td> <td>   -0.019     0.782</td>\n",
       "</tr>\n",
       "<tr>\n",
       "  <th>per_black</th>    <td>   -0.0336</td> <td>    0.012</td> <td>   -2.754</td> <td> 0.006</td> <td>   -0.058    -0.010</td>\n",
       "</tr>\n",
       "<tr>\n",
       "  <th>per_unemplyd</th> <td>   -1.5972</td> <td>    0.249</td> <td>   -6.413</td> <td> 0.000</td> <td>   -2.085    -1.109</td>\n",
       "</tr>\n",
       "<tr>\n",
       "  <th>populatn</th>     <td> 9.158e-06</td> <td> 3.21e-06</td> <td>    2.856</td> <td> 0.004</td> <td> 2.87e-06  1.54e-05</td>\n",
       "</tr>\n",
       "<tr>\n",
       "  <th>per_transprt</th> <td>   -0.1102</td> <td>    0.217</td> <td>   -0.508</td> <td> 0.612</td> <td>   -0.535     0.315</td>\n",
       "</tr>\n",
       "<tr>\n",
       "  <th>per_gvtwrkr</th>  <td>   -0.0869</td> <td>    0.063</td> <td>   -1.385</td> <td> 0.166</td> <td>   -0.210     0.036</td>\n",
       "</tr>\n",
       "<tr>\n",
       "  <th>city</th>         <td>   -0.4184</td> <td>    0.277</td> <td>   -1.510</td> <td> 0.131</td> <td>   -0.961     0.125</td>\n",
       "</tr>\n",
       "<tr>\n",
       "  <th>coast</th>        <td>   -0.6557</td> <td>    0.264</td> <td>   -2.483</td> <td> 0.013</td> <td>   -1.173    -0.138</td>\n",
       "</tr>\n",
       "<tr>\n",
       "  <th>mdnincm</th>      <td>-4.456e-06</td> <td> 1.77e-05</td> <td>   -0.252</td> <td> 0.801</td> <td>-3.92e-05  3.03e-05</td>\n",
       "</tr>\n",
       "<tr>\n",
       "  <th>per_enroll</th>   <td>    0.2150</td> <td>    0.060</td> <td>    3.569</td> <td> 0.000</td> <td>    0.097     0.333</td>\n",
       "</tr>\n",
       "</table>"
      ],
      "text/plain": [
       "<class 'statsmodels.iolib.summary.Summary'>\n",
       "\"\"\"\n",
       "                           Logit Regression Results                           \n",
       "==============================================================================\n",
       "Dep. Variable:                  repub   No. Observations:                  435\n",
       "Model:                          Logit   Df Residuals:                      424\n",
       "Method:                           MLE   Df Model:                           10\n",
       "Date:                Mon, 28 Nov 2016   Pseudo R-squ.:                  0.2644\n",
       "Time:                        23:36:05   Log-Likelihood:                -221.41\n",
       "converged:                       True   LL-Null:                       -301.01\n",
       "                                        LLR p-value:                 4.741e-29\n",
       "================================================================================\n",
       "                   coef    std err          z      P>|z|      [95.0% Conf. Int.]\n",
       "--------------------------------------------------------------------------------\n",
       "const           -3.5565      2.331     -1.526      0.127        -8.126     1.013\n",
       "per_construc     0.3817      0.204      1.868      0.062        -0.019     0.782\n",
       "per_black       -0.0336      0.012     -2.754      0.006        -0.058    -0.010\n",
       "per_unemplyd    -1.5972      0.249     -6.413      0.000        -2.085    -1.109\n",
       "populatn      9.158e-06   3.21e-06      2.856      0.004      2.87e-06  1.54e-05\n",
       "per_transprt    -0.1102      0.217     -0.508      0.612        -0.535     0.315\n",
       "per_gvtwrkr     -0.0869      0.063     -1.385      0.166        -0.210     0.036\n",
       "city            -0.4184      0.277     -1.510      0.131        -0.961     0.125\n",
       "coast           -0.6557      0.264     -2.483      0.013        -1.173    -0.138\n",
       "mdnincm      -4.456e-06   1.77e-05     -0.252      0.801     -3.92e-05  3.03e-05\n",
       "per_enroll       0.2150      0.060      3.569      0.000         0.097     0.333\n",
       "================================================================================\n",
       "\"\"\""
      ]
     },
     "execution_count": 54,
     "metadata": {},
     "output_type": "execute_result"
    }
   ],
   "source": [
    "new_vars = ['per_construc', 'per_black', 'per_unemplyd', 'populatn', 'per_transprt', 'per_gvtwrkr', 'city', 'coast',\n",
    "           'mdnincm', 'per_enroll' ]\n",
    "new_x_const = sm.add_constant(congress[new_vars])\n",
    "\n",
    "new_model = Logit(congress.repub, new_x_const).fit()\n",
    "new_model.summary()"
   ]
  },
  {
   "cell_type": "code",
   "execution_count": 55,
   "metadata": {
    "collapsed": false
   },
   "outputs": [
    {
     "name": "stdout",
     "output_type": "stream",
     "text": [
      "             precision    recall  f1-score   support\n",
      "\n",
      "        0.0       0.77      0.69      0.73       207\n",
      "        1.0       0.74      0.82      0.78       228\n",
      "\n",
      "avg / total       0.76      0.76      0.76       435\n",
      "\n",
      "Confusion matrix:\n",
      "\n",
      "[[143  64]\n",
      " [ 42 186]]\n"
     ]
    }
   ],
   "source": [
    "new_predictions = np.array([1 if x >= 0.5 else 0 for x in new_model.predict()])\n",
    "\n",
    "print classification_report(congress.repub, new_predictions)\n",
    "print \"Confusion matrix:\\n\"\n",
    "print confusion_matrix(congress.repub, new_predictions)"
   ]
  },
  {
   "cell_type": "code",
   "execution_count": 56,
   "metadata": {
    "collapsed": false
   },
   "outputs": [
    {
     "data": {
      "text/html": [
       "<table class=\"simpletable\">\n",
       "<caption>Logit Marginal Effects</caption>\n",
       "<tr>\n",
       "  <th>Dep. Variable:</th>  <td>repub</td> \n",
       "</tr>\n",
       "<tr>\n",
       "  <th>Method:</th>         <td>dydx</td>  \n",
       "</tr>\n",
       "<tr>\n",
       "  <th>At:</th>            <td>overall</td>\n",
       "</tr>\n",
       "</table>\n",
       "<table class=\"simpletable\">\n",
       "<tr>\n",
       "        <th></th>          <th>dy/dx</th>    <th>std err</th>      <th>z</th>      <th>P>|z|</th> <th>[95.0% Conf. Int.]</th> \n",
       "</tr>\n",
       "<tr>\n",
       "  <th>per_construc</th> <td>    0.0653</td> <td>    0.034</td> <td>    1.896</td> <td> 0.058</td> <td>   -0.002     0.133</td>\n",
       "</tr>\n",
       "<tr>\n",
       "  <th>per_black</th>    <td>   -0.0058</td> <td>    0.002</td> <td>   -2.837</td> <td> 0.005</td> <td>   -0.010    -0.002</td>\n",
       "</tr>\n",
       "<tr>\n",
       "  <th>per_unemplyd</th> <td>   -0.2734</td> <td>    0.035</td> <td>   -7.884</td> <td> 0.000</td> <td>   -0.341    -0.205</td>\n",
       "</tr>\n",
       "<tr>\n",
       "  <th>populatn</th>     <td> 1.568e-06</td> <td> 5.32e-07</td> <td>    2.947</td> <td> 0.003</td> <td> 5.25e-07  2.61e-06</td>\n",
       "</tr>\n",
       "<tr>\n",
       "  <th>per_transprt</th> <td>   -0.0189</td> <td>    0.037</td> <td>   -0.508</td> <td> 0.611</td> <td>   -0.092     0.054</td>\n",
       "</tr>\n",
       "<tr>\n",
       "  <th>per_gvtwrkr</th>  <td>   -0.0149</td> <td>    0.011</td> <td>   -1.396</td> <td> 0.163</td> <td>   -0.036     0.006</td>\n",
       "</tr>\n",
       "<tr>\n",
       "  <th>city</th>         <td>   -0.0716</td> <td>    0.047</td> <td>   -1.524</td> <td> 0.128</td> <td>   -0.164     0.020</td>\n",
       "</tr>\n",
       "<tr>\n",
       "  <th>coast</th>        <td>   -0.1122</td> <td>    0.044</td> <td>   -2.551</td> <td> 0.011</td> <td>   -0.198    -0.026</td>\n",
       "</tr>\n",
       "<tr>\n",
       "  <th>mdnincm</th>      <td>-7.627e-07</td> <td> 3.03e-06</td> <td>   -0.252</td> <td> 0.801</td> <td> -6.7e-06  5.18e-06</td>\n",
       "</tr>\n",
       "<tr>\n",
       "  <th>per_enroll</th>   <td>    0.0368</td> <td>    0.010</td> <td>    3.761</td> <td> 0.000</td> <td>    0.018     0.056</td>\n",
       "</tr>\n",
       "</table>"
      ],
      "text/plain": [
       "<class 'statsmodels.iolib.summary.Summary'>\n",
       "\"\"\"\n",
       "        Logit Marginal Effects       \n",
       "=====================================\n",
       "Dep. Variable:                  repub\n",
       "Method:                          dydx\n",
       "At:                           overall\n",
       "================================================================================\n",
       "                  dy/dx    std err          z      P>|z|      [95.0% Conf. Int.]\n",
       "--------------------------------------------------------------------------------\n",
       "per_construc     0.0653      0.034      1.896      0.058        -0.002     0.133\n",
       "per_black       -0.0058      0.002     -2.837      0.005        -0.010    -0.002\n",
       "per_unemplyd    -0.2734      0.035     -7.884      0.000        -0.341    -0.205\n",
       "populatn      1.568e-06   5.32e-07      2.947      0.003      5.25e-07  2.61e-06\n",
       "per_transprt    -0.0189      0.037     -0.508      0.611        -0.092     0.054\n",
       "per_gvtwrkr     -0.0149      0.011     -1.396      0.163        -0.036     0.006\n",
       "city            -0.0716      0.047     -1.524      0.128        -0.164     0.020\n",
       "coast           -0.1122      0.044     -2.551      0.011        -0.198    -0.026\n",
       "mdnincm      -7.627e-07   3.03e-06     -0.252      0.801      -6.7e-06  5.18e-06\n",
       "per_enroll       0.0368      0.010      3.761      0.000         0.018     0.056\n",
       "================================================================================\n",
       "\"\"\""
      ]
     },
     "execution_count": 56,
     "metadata": {},
     "output_type": "execute_result"
    }
   ],
   "source": [
    "new_model.get_margeff().summary()"
   ]
  },
  {
   "cell_type": "code",
   "execution_count": null,
   "metadata": {
    "collapsed": true
   },
   "outputs": [],
   "source": []
  }
 ],
 "metadata": {
  "anaconda-cloud": {},
  "kernelspec": {
   "display_name": "Python [conda root]",
   "language": "python",
   "name": "conda-root-py"
  },
  "language_info": {
   "codemirror_mode": {
    "name": "ipython",
    "version": 2
   },
   "file_extension": ".py",
   "mimetype": "text/x-python",
   "name": "python",
   "nbconvert_exporter": "python",
   "pygments_lexer": "ipython2",
   "version": "2.7.12"
  }
 },
 "nbformat": 4,
 "nbformat_minor": 1
}
